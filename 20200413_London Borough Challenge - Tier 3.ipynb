{
 "cells": [
  {
   "cell_type": "markdown",
   "metadata": {
    "colab_type": "text",
    "id": "Tia3MP1SJpgj"
   },
   "source": [
    "# Springboard Data Science Career Track Unit 4 Challenge - Tier 3 Complete\n",
    "\n",
    "## Objectives\n",
    "Hey! Great job getting through those challenging DataCamp courses. You're learning a lot in a short span of time. \n",
    "\n",
    "In this notebook, you're going to apply the skills you've been learning, bridging the gap between the controlled environment of DataCamp and the *slightly* messier work that data scientists do with actual datasets!\n",
    "\n",
    "Here’s the mystery we’re going to solve: ***which boroughs of London have seen the greatest increase in housing prices, on average, over the last two decades?***\n",
    "\n",
    "\n",
    "A borough is just a fancy word for district. You may be familiar with the five boroughs of New York… well, there are 32 boroughs within Greater London [(here's some info for the curious)](https://en.wikipedia.org/wiki/London_boroughs). Some of them are more desirable areas to live in, and the data will reflect that with a greater rise in housing prices.\n",
    "\n",
    "***This is the Tier 3 notebook, which means it's not filled in at all: we'll just give you the skeleton of a project, the brief and the data. It's up to you to play around with it and see what you can find out! Good luck! If you struggle, feel free to look at easier tiers for help; but try to dip in and out of them, as the more independent work you do, the better it is for your learning!***\n",
    "\n",
    "This challenge will make use of only what you learned in the following DataCamp courses: \n",
    "- Prework courses (Introduction to Python for Data Science, Intermediate Python for Data Science)\n",
    "- Data Types for Data Science\n",
    "- Python Data Science Toolbox (Part One) \n",
    "- pandas Foundations\n",
    "- Manipulating DataFrames with pandas\n",
    "- Merging DataFrames with pandas\n",
    "\n",
    "Of the tools, techniques and concepts in the above DataCamp courses, this challenge should require the application of the following: \n",
    "- **pandas**\n",
    "    - **data ingestion and inspection** (pandas Foundations, Module One) \n",
    "    - **exploratory data analysis** (pandas Foundations, Module Two)\n",
    "    - **tidying and cleaning** (Manipulating DataFrames with pandas, Module Three) \n",
    "    - **transforming DataFrames** (Manipulating DataFrames with pandas, Module One)\n",
    "    - **subsetting DataFrames with lists** (Manipulating DataFrames with pandas, Module One) \n",
    "    - **filtering DataFrames** (Manipulating DataFrames with pandas, Module One) \n",
    "    - **grouping data** (Manipulating DataFrames with pandas, Module Four) \n",
    "    - **melting data** (Manipulating DataFrames with pandas, Module Three) \n",
    "    - **advanced indexing** (Manipulating DataFrames with pandas, Module Four) \n",
    "- **matplotlib** (Intermediate Python for Data Science, Module One)\n",
    "- **fundamental data types** (Data Types for Data Science, Module One) \n",
    "- **dictionaries** (Intermediate Python for Data Science, Module Two)\n",
    "- **handling dates and times** (Data Types for Data Science, Module Four)\n",
    "- **function definition** (Python Data Science Toolbox - Part One, Module One)\n",
    "- **default arguments, variable length, and scope** (Python Data Science Toolbox - Part One, Module Two) \n",
    "- **lambda functions and error handling** (Python Data Science Toolbox - Part One, Module Four) "
   ]
  },
  {
   "cell_type": "markdown",
   "metadata": {
    "colab_type": "text",
    "id": "Ipgd2nV8Jpgl"
   },
   "source": [
    "## The Data Science Pipeline\n",
    "\n",
    "This is Tier Three, so we'll get you started. But after that, it's all in your hands! When you feel done with your investigations, look back over what you've accomplished, and prepare a quick presentation of your findings for the next mentor meeting. \n",
    "\n",
    "Data Science is magical. In this case study, you'll get to apply some complex machine learning algorithms. But as  [David Spiegelhalter](https://www.youtube.com/watch?v=oUs1uvsz0Ok) reminds us, there is no substitute for simply **taking a really, really good look at the data.** Sometimes, this is all we need to answer our question.\n",
    "\n",
    "Data Science projects generally adhere to the four stages of Data Science Pipeline:\n",
    "1. Sourcing and loading \n",
    "2. Cleaning, transforming, and visualizing \n",
    "3. Modeling \n",
    "4. Evaluating and concluding \n"
   ]
  },
  {
   "cell_type": "markdown",
   "metadata": {
    "colab_type": "text",
    "id": "zswDqbefJpgm"
   },
   "source": [
    "### 1. Sourcing and Loading \n",
    "\n",
    "Any Data Science project kicks off by importing  ***pandas***. The documentation of this wonderful library can be found [here](https://pandas.pydata.org/). As you've seen, pandas is conveniently connected to the [Numpy](http://www.numpy.org/) and [Matplotlib](https://matplotlib.org/) libraries. \n",
    "\n",
    "***Hint:*** This part of the data science pipeline will test those skills you acquired in the pandas Foundations course, Module One. "
   ]
  },
  {
   "cell_type": "markdown",
   "metadata": {
    "colab_type": "text",
    "id": "aEau5nEvJpgm"
   },
   "source": [
    "#### 1.1. Importing Libraries"
   ]
  },
  {
   "cell_type": "code",
   "execution_count": 2,
   "metadata": {
    "colab": {},
    "colab_type": "code",
    "id": "7Bt_Q_oPJpgn"
   },
   "outputs": [],
   "source": [
    "# Let's import the pandas, numpy libraries as pd, and np respectively. \n",
    "import pandas as pd\n",
    "import numpy as np\n",
    "\n",
    "# Load the pyplot collection of functions from matplotlib, as plt \n",
    "from matplotlib import pyplot as plt"
   ]
  },
  {
   "cell_type": "markdown",
   "metadata": {
    "colab_type": "text",
    "id": "koUrawxsJpgq"
   },
   "source": [
    "#### 1.2.  Loading the data\n",
    "Your data comes from the [London Datastore](https://data.london.gov.uk/): a free, open-source data-sharing portal for London-oriented datasets. "
   ]
  },
  {
   "cell_type": "code",
   "execution_count": 30,
   "metadata": {
    "colab": {},
    "colab_type": "code",
    "id": "AiLiD4v3Jpgr"
   },
   "outputs": [],
   "source": [
    "# First, make a variable called url_LondonHousePrices, and assign it the following link, enclosed in quotation-marks as a string:\n",
    "# https://data.london.gov.uk/download/uk-house-price-index/70ac0766-8902-4eb5-aab5-01951aaed773/UK%20House%20price%20index.xls\n",
    "\n",
    "url_LondonHousePrices = \"https://data.london.gov.uk/download/uk-house-price-index/70ac0766-8902-4eb5-aab5-01951aaed773/UK%20House%20price%20index.xls\"\n",
    "\n",
    "# The dataset we're interested in contains the Average prices of the houses, and is actually on a particular sheet of the Excel file. \n",
    "# As a result, we need to specify the sheet name in the read_excel() method.\n",
    "# Put this data into a variable called properties.  \n",
    "properties = pd.read_excel(url_LondonHousePrices, sheet_name='Average price', index_col= None)"
   ]
  },
  {
   "cell_type": "markdown",
   "metadata": {
    "colab_type": "text",
    "id": "POukEJXgJpgu"
   },
   "source": [
    "### 2. Cleaning, transforming, and visualizing\n",
    "This second stage is arguably the most important part of any Data Science project. The first thing to do is take a proper look at the data. Cleaning forms the majority of this stage, and can be done both before or after Transformation.\n",
    "\n",
    "The end goal of data cleaning is to have tidy data. When data is tidy: \n",
    "\n",
    "1. Each variable has a column.\n",
    "2. Each observation forms a row.\n",
    "\n",
    "Keep the end goal in mind as you move through this process, every step will take you closer. \n",
    "\n",
    "\n",
    "\n",
    "***Hint:*** This part of the data science pipeline should test those skills you acquired in: \n",
    "- Intermediate Python for data science, all modules.\n",
    "- pandas Foundations, all modules. \n",
    "- Manipulating DataFrames with pandas, all modules.\n",
    "- Data Types for Data Science, Module Four.\n",
    "- Python Data Science Toolbox - Part One, all modules"
   ]
  },
  {
   "cell_type": "markdown",
   "metadata": {
    "colab_type": "text",
    "id": "Te0Q548tnzZa"
   },
   "source": [
    "**2.1. Exploring your data** \n",
    "\n",
    "Think about your pandas functions for checking out a dataframe. "
   ]
  },
  {
   "cell_type": "code",
   "execution_count": 31,
   "metadata": {
    "colab": {},
    "colab_type": "code",
    "id": "Rxirxw_qoAJa"
   },
   "outputs": [
    {
     "name": "stdout",
     "output_type": "stream",
     "text": [
      "  Unnamed: 0 City of London Barking & Dagenham     Barnet     Bexley  \\\n",
      "0        NaT      E09000001          E09000002  E09000003  E09000004   \n",
      "1 1995-01-01          91449            50460.2    93284.5    64958.1   \n",
      "2 1995-02-01        82202.8            51085.8    93190.2    64787.9   \n",
      "3 1995-03-01        79120.7              51269    92247.5    64367.5   \n",
      "4 1995-04-01        77101.2            53133.5    90762.9    64277.7   \n",
      "\n",
      "       Brent    Bromley     Camden    Croydon     Ealing  ... NORTH WEST  \\\n",
      "0  E09000005  E09000006  E09000007  E09000008  E09000009  ...  E12000002   \n",
      "1    71306.6    81671.5     120933    69158.2    79885.9  ...    43958.5   \n",
      "2    72022.3    81657.6     119509    68951.1    80897.1  ...    43925.4   \n",
      "3    72015.8    81449.3     120282    68712.4    81379.9  ...    44434.9   \n",
      "4    72965.6    81124.4     120098      68610    82188.9  ...    44267.8   \n",
      "\n",
      "  YORKS & THE HUMBER EAST MIDLANDS WEST MIDLANDS EAST OF ENGLAND     LONDON  \\\n",
      "0          E12000003     E12000004     E12000005       E12000006  E12000007   \n",
      "1            44803.4       45544.5       48527.5         56701.6    74435.8   \n",
      "2            44528.8       46051.6       49341.3         56593.6    72777.9   \n",
      "3            45200.5       45383.8       49442.2         56171.2    73896.8   \n",
      "4            45614.3       46124.2       49455.9         56567.9    74455.3   \n",
      "\n",
      "  SOUTH EAST SOUTH WEST Unnamed: 47    England  \n",
      "0  E12000008  E12000009         NaN  E92000001  \n",
      "1    64018.9    54705.2         NaN    53202.8  \n",
      "2      63715    54356.1         NaN    53096.2  \n",
      "3    64113.6    53583.1         NaN    53201.3  \n",
      "4    64623.2      54786         NaN    53590.9  \n",
      "\n",
      "[5 rows x 49 columns]\n"
     ]
    }
   ],
   "source": [
    "print(properties.head())\n",
    "print(proeprties.tail())\n",
    "print(properties.info())"
   ]
  },
  {
   "cell_type": "markdown",
   "metadata": {
    "colab_type": "text",
    "id": "tE9Sqt9-oAta"
   },
   "source": [
    "**2.2. Cleaning the data**\n",
    "\n",
    "You might find you need to transpose your dataframe, check out what its row indexes are, and reset the index. You  also might find you need to assign the values of the first row to your column headings  . (Hint: recall the .columns feature of DataFrames, as well as the iloc[] method).\n",
    "\n",
    "Don't be afraid to use StackOverflow for help  with this."
   ]
  },
  {
   "cell_type": "code",
   "execution_count": 32,
   "metadata": {
    "colab": {},
    "colab_type": "code",
    "id": "cdAu1A3YoH_r"
   },
   "outputs": [
    {
     "name": "stdout",
     "output_type": "stream",
     "text": [
      "                index          0                    1                    2  \\\n",
      "0          Unnamed: 0        NaT  1995-01-01 00:00:00  1995-02-01 00:00:00   \n",
      "1      City of London  E09000001                91449              82202.8   \n",
      "2  Barking & Dagenham  E09000002              50460.2              51085.8   \n",
      "3              Barnet  E09000003              93284.5              93190.2   \n",
      "4              Bexley  E09000004              64958.1              64787.9   \n",
      "\n",
      "                     3                    4                    5  \\\n",
      "0  1995-03-01 00:00:00  1995-04-01 00:00:00  1995-05-01 00:00:00   \n",
      "1              79120.7              77101.2              84409.1   \n",
      "2                51269              53133.5              53042.2   \n",
      "3              92247.5              90762.9                90258   \n",
      "4              64367.5              64277.7              63997.1   \n",
      "\n",
      "                     6                    7                    8  ...  \\\n",
      "0  1995-06-01 00:00:00  1995-07-01 00:00:00  1995-08-01 00:00:00  ...   \n",
      "1              94900.5               110128               112329  ...   \n",
      "2              53700.3              52113.1              52232.2  ...   \n",
      "3              90107.2              91441.2              92361.3  ...   \n",
      "4              64252.3              63722.7              64432.6  ...   \n",
      "\n",
      "                   292                  293                  294  \\\n",
      "0  2019-04-01 00:00:00  2019-05-01 00:00:00  2019-06-01 00:00:00   \n",
      "1               738842               718773               743157   \n",
      "2               296360               296555               295600   \n",
      "3               512588               503721               511926   \n",
      "4               339948               337445               339964   \n",
      "\n",
      "                   295                  296                  297  \\\n",
      "0  2019-07-01 00:00:00  2019-08-01 00:00:00  2019-09-01 00:00:00   \n",
      "1               719871               777613               792034   \n",
      "2               299538               300702               305277   \n",
      "3               514134               527996               527115   \n",
      "4               338721               338702               334826   \n",
      "\n",
      "                   298                  299                  300  \\\n",
      "0  2019-10-01 00:00:00  2019-11-01 00:00:00  2019-12-01 00:00:00   \n",
      "1               827093               777610               734872   \n",
      "2               304153               305882               301816   \n",
      "3               525739               523582               517986   \n",
      "4               334510               334711               336972   \n",
      "\n",
      "                   301  \n",
      "0  2020-01-01 00:00:00  \n",
      "1               775309  \n",
      "2               301057  \n",
      "3               520682  \n",
      "4               331683  \n",
      "\n",
      "[5 rows x 303 columns]\n"
     ]
    }
   ],
   "source": [
    "properties = properties.transpose()\n",
    "properties = properties.reset_index()\n",
    "\n",
    "print(properties.head())"
   ]
  },
  {
   "cell_type": "code",
   "execution_count": 38,
   "metadata": {},
   "outputs": [
    {
     "name": "stdout",
     "output_type": "stream",
     "text": [
      "0          Unnamed: 0        NaN 1995-01-01 00:00:00 1995-02-01 00:00:00  \\\n",
      "1      City of London  E09000001               91449             82202.8   \n",
      "2  Barking & Dagenham  E09000002             50460.2             51085.8   \n",
      "3              Barnet  E09000003             93284.5             93190.2   \n",
      "4              Bexley  E09000004             64958.1             64787.9   \n",
      "5               Brent  E09000005             71306.6             72022.3   \n",
      "\n",
      "0 1995-03-01 00:00:00 1995-04-01 00:00:00 1995-05-01 00:00:00  \\\n",
      "1             79120.7             77101.2             84409.1   \n",
      "2               51269             53133.5             53042.2   \n",
      "3             92247.5             90762.9               90258   \n",
      "4             64367.5             64277.7             63997.1   \n",
      "5             72015.8             72965.6               73704   \n",
      "\n",
      "0 1995-06-01 00:00:00 1995-07-01 00:00:00 1995-08-01 00:00:00  ...  \\\n",
      "1             94900.5              110128              112329  ...   \n",
      "2             53700.3             52113.1             52232.2  ...   \n",
      "3             90107.2             91441.2             92361.3  ...   \n",
      "4             64252.3             63722.7             64432.6  ...   \n",
      "5             74310.5               74127               73547  ...   \n",
      "\n",
      "0 2019-04-01 00:00:00 2019-05-01 00:00:00 2019-06-01 00:00:00  \\\n",
      "1              738842              718773              743157   \n",
      "2              296360              296555              295600   \n",
      "3              512588              503721              511926   \n",
      "4              339948              337445              339964   \n",
      "5              487049              482244              472702   \n",
      "\n",
      "0 2019-07-01 00:00:00 2019-08-01 00:00:00 2019-09-01 00:00:00  \\\n",
      "1              719871              777613              792034   \n",
      "2              299538              300702              305277   \n",
      "3              514134              527996              527115   \n",
      "4              338721              338702              334826   \n",
      "5              470872              486068              500246   \n",
      "\n",
      "0 2019-10-01 00:00:00 2019-11-01 00:00:00 2019-12-01 00:00:00  \\\n",
      "1              827093              777610              734872   \n",
      "2              304153              305882              301816   \n",
      "3              525739              523582              517986   \n",
      "4              334510              334711              336972   \n",
      "5              494527              431249              431245   \n",
      "\n",
      "0 2020-01-01 00:00:00  \n",
      "1              775309  \n",
      "2              301057  \n",
      "3              520682  \n",
      "4              331683  \n",
      "5              408523  \n",
      "\n",
      "[5 rows x 303 columns]\n"
     ]
    }
   ],
   "source": [
    "properties.columns = properties.iloc[0,:]\n",
    "properties = properties.drop(properties.index[0])\n",
    "\n",
    "print(properties.head(2))"
   ]
  },
  {
   "cell_type": "markdown",
   "metadata": {
    "colab_type": "text",
    "id": "o1uLbJAsoIjK"
   },
   "source": [
    "**2.3. Cleaning the data (part 2)**\n",
    "\n",
    "You might we have to **rename** a couple columns. How do you do this? The clue's pretty bold..."
   ]
  },
  {
   "cell_type": "code",
   "execution_count": 48,
   "metadata": {
    "colab": {},
    "colab_type": "code",
    "id": "GKkmn1AnoVZS"
   },
   "outputs": [],
   "source": [
    "properties = properties.rename(columns={\"Unnamed: 0\":\"districts\"})\n",
    "properties.columns.values[1] = \"code\""
   ]
  },
  {
   "cell_type": "markdown",
   "metadata": {
    "colab_type": "text",
    "id": "jy8BzXHmoWEw"
   },
   "source": [
    "**2.4.Transforming the data**\n",
    "\n",
    "Remember what Wes McKinney said about tidy data? \n",
    "\n",
    "You might need to **melt** your DataFrame here. "
   ]
  },
  {
   "cell_type": "code",
   "execution_count": 68,
   "metadata": {
    "colab": {},
    "colab_type": "code",
    "id": "S2wM0qLuo2Zt"
   },
   "outputs": [
    {
     "name": "stdout",
     "output_type": "stream",
     "text": [
      "            districts       code       Date rent_price\n",
      "0      City of London  E09000001 1995-01-01      91449\n",
      "1  Barking & Dagenham  E09000002 1995-01-01    50460.2\n"
     ]
    }
   ],
   "source": [
    "properties_melt= properties.melt(id_vars=['districts','code'], var_name='Date', value_name='rent_price')\n",
    "print(properties_melt.head(2))"
   ]
  },
  {
   "cell_type": "markdown",
   "metadata": {
    "colab_type": "text",
    "id": "7kIsgAo7o3mf"
   },
   "source": [
    "Remember to make sure your column data types are all correct. Average prices, for example, should be floating point numbers... "
   ]
  },
  {
   "cell_type": "code",
   "execution_count": 69,
   "metadata": {
    "colab": {},
    "colab_type": "code",
    "id": "ZcR4IHbcpOaq"
   },
   "outputs": [
    {
     "name": "stdout",
     "output_type": "stream",
     "text": [
      "            districts       code       Date   rent_price\n",
      "0      City of London  E09000001 1995-01-01  91448.98487\n",
      "1  Barking & Dagenham  E09000002 1995-01-01  50460.22660\n",
      "2              Barnet  E09000003 1995-01-01  93284.51832\n",
      "3              Bexley  E09000004 1995-01-01  64958.09036\n",
      "4               Brent  E09000005 1995-01-01  71306.56698\n"
     ]
    }
   ],
   "source": [
    "properties_melt['rent_price'] = properties_melt['rent_price'].astype(float)\n",
    "print(properties_melt.head())"
   ]
  },
  {
   "cell_type": "markdown",
   "metadata": {
    "colab_type": "text",
    "id": "knLUXHLypOtw"
   },
   "source": [
    "**2.5. Cleaning the data (part 3)**\n",
    "\n",
    "Do we have an equal number of observations in the ID, Average Price, Month, and London Borough columns? Remember that there are only 32 London Boroughs. How many entries do you have in that column? \n",
    "\n",
    "Check out the contents of the London Borough column, and if you find null values, get rid of them however you see fit. "
   ]
  },
  {
   "cell_type": "code",
   "execution_count": 82,
   "metadata": {
    "colab": {},
    "colab_type": "code",
    "id": "BnvTW5a3p0fC"
   },
   "outputs": [
    {
     "data": {
      "text/plain": [
       "array(['City of London', 'Barking & Dagenham', 'Barnet', 'Bexley',\n",
       "       'Brent', 'Bromley', 'Camden', 'Croydon', 'Ealing', 'Enfield',\n",
       "       'Greenwich', 'Hackney', 'Hammersmith & Fulham', 'Haringey',\n",
       "       'Harrow', 'Havering', 'Hillingdon', 'Hounslow', 'Islington',\n",
       "       'Kensington & Chelsea', 'Kingston upon Thames', 'Lambeth',\n",
       "       'Lewisham', 'Merton', 'Newham', 'Redbridge',\n",
       "       'Richmond upon Thames', 'Southwark', 'Sutton', 'Tower Hamlets',\n",
       "       'Waltham Forest', 'Wandsworth', 'Westminster', 'Inner London',\n",
       "       'Outer London', 'NORTH EAST', 'NORTH WEST', 'YORKS & THE HUMBER',\n",
       "       'EAST MIDLANDS', 'WEST MIDLANDS', 'EAST OF ENGLAND', 'LONDON',\n",
       "       'SOUTH EAST', 'SOUTH WEST', 'England'], dtype=object)"
      ]
     },
     "execution_count": 82,
     "metadata": {},
     "output_type": "execute_result"
    }
   ],
   "source": [
    "#drop row that has any NaN\n",
    "properties_melt.info()\n",
    "properties_melt_clean = properties_melt.dropna(how='any')\n",
    "properties_melt_clean.info()\n",
    "\n",
    "properties_melt_clean['districts'].unique()"
   ]
  },
  {
   "cell_type": "code",
   "execution_count": 133,
   "metadata": {},
   "outputs": [
    {
     "name": "stdout",
     "output_type": "stream",
     "text": [
      "<class 'pandas.core.frame.DataFrame'>\n",
      "Int64Index: 9933 entries, 0 to 14432\n",
      "Data columns (total 5 columns):\n",
      "districts     9933 non-null object\n",
      "code          9933 non-null object\n",
      "Date          9933 non-null datetime64[ns]\n",
      "rent_price    9933 non-null float64\n",
      "Year          9933 non-null datetime64[ns]\n",
      "dtypes: datetime64[ns](2), float64(1), object(2)\n",
      "memory usage: 465.6+ KB\n"
     ]
    }
   ],
   "source": [
    "districts_list = ['City of London', 'Barking & Dagenham', 'Barnet', 'Bexley',\n",
    "       'Brent', 'Bromley', 'Camden', 'Croydon', 'Ealing', 'Enfield',\n",
    "       'Greenwich', 'Hackney', 'Hammersmith & Fulham', 'Haringey',\n",
    "       'Harrow', 'Havering', 'Hillingdon', 'Hounslow', 'Islington',\n",
    "       'Kensington & Chelsea', 'Kingston upon Thames', 'Lambeth',\n",
    "       'Lewisham', 'Merton', 'Newham', 'Redbridge',\n",
    "       'Richmond upon Thames', 'Southwark', 'Sutton', 'Tower Hamlets',\n",
    "       'Waltham Forest', 'Wandsworth', 'Westminster']\n",
    "\n",
    "is_district = properties_melt_clean.districts.isin(districts_list)\n",
    "\n",
    "# drop rows that are not a London districts\n",
    "properties_melt_clean = properties_melt_clean.loc[is_district]\n",
    "properties_melt_clean.info()"
   ]
  },
  {
   "cell_type": "markdown",
   "metadata": {
    "colab_type": "text",
    "id": "PGEx6mJsp6dG"
   },
   "source": [
    "**2.6. Visualizing the data**\n",
    "\n",
    "To visualize the data, why not subset on a particular London Borough? Maybe do a line plot of Month against Average Price?"
   ]
  },
  {
   "cell_type": "code",
   "execution_count": 88,
   "metadata": {
    "colab": {},
    "colab_type": "code",
    "id": "nAg5pT9cqHAR"
   },
   "outputs": [
    {
     "data": {
      "image/png": "[encoded data removed]",
      "text/plain": [
       "<Figure size 432x288 with 1 Axes>"
      ]
     },
     "metadata": {
      "needs_background": "light"
     },
     "output_type": "display_data"
    }
   ],
   "source": [
    "barnet = properties_melt_clean.loc[properties_melt_clean.districts.isin(['Barnet'])]\n",
    "\n",
    "barnet.set_index('Date', inplace=True)\n",
    "\n",
    "barnet.plot()\n",
    "plt.show()"
   ]
  },
  {
   "cell_type": "markdown",
   "metadata": {
    "colab_type": "text",
    "id": "aWTPqSJeqHnC"
   },
   "source": [
    "To limit the number of data points you have, you might want to extract the year from every month value your *Month* column. \n",
    "\n",
    "To this end, you *could* apply a ***lambda function***. Your logic could work as follows:\n",
    "1. look through the `Month` column\n",
    "2. extract the year from each individual value in that column \n",
    "3. store that corresponding year as separate column. \n",
    "\n",
    "Whether you go ahead with this is up to you. Just so long as you answer our initial brief: which boroughs of London have seen the greatest house price increase, on average, over the past two decades? "
   ]
  },
  {
   "cell_type": "code",
   "execution_count": 135,
   "metadata": {
    "colab": {},
    "colab_type": "code",
    "id": "e0DF92cyqnu8"
   },
   "outputs": [
    {
     "name": "stdout",
     "output_type": "stream",
     "text": [
      "<class 'pandas.core.frame.DataFrame'>\n",
      "Int64Index: 9933 entries, 0 to 14432\n",
      "Data columns (total 5 columns):\n",
      "districts     9933 non-null object\n",
      "code          9933 non-null object\n",
      "Date          9933 non-null datetime64[ns]\n",
      "rent_price    9933 non-null float64\n",
      "Year          9933 non-null datetime64[ns]\n",
      "dtypes: datetime64[ns](2), float64(1), object(2)\n",
      "memory usage: 465.6+ KB\n"
     ]
    }
   ],
   "source": [
    "#I have no idea what kind of lambda function is expected here but I won't need this Year column, as I just resample the column 'Date' to year in the next step.\n",
    "\n",
    "for district in districts_list:\n",
    "    properties_melt_clean['Year'] = pd.to_datetime(properties_melt_clean['Date'], format='%Y')\n",
    "\n",
    "properties_melt_clean.info()"
   ]
  },
  {
   "cell_type": "code",
   "execution_count": 132,
   "metadata": {},
   "outputs": [
    {
     "name": "stdout",
     "output_type": "stream",
     "text": [
      "               rent_price        district\n",
      "Date                                     \n",
      "1995-12-31   99085.008156  City of London\n",
      "1996-12-31  105651.057557  City of London\n",
      "1997-12-31  117113.442375  City of London\n",
      "1998-12-31  148031.894542  City of London\n",
      "1999-12-31  171300.061875  City of London\n",
      "              rent_price     district\n",
      "Date                                 \n",
      "2016-12-31  9.955434e+05  Westminster\n",
      "2017-12-31  1.064772e+06  Westminster\n",
      "2018-12-31  1.020025e+06  Westminster\n",
      "2019-12-31  9.583040e+05  Westminster\n",
      "2020-12-31  1.019028e+06  Westminster\n"
     ]
    }
   ],
   "source": [
    "districts_list = ['City of London', 'Barking & Dagenham', 'Barnet', 'Bexley',\n",
    "       'Brent', 'Bromley', 'Camden', 'Croydon', 'Ealing', 'Enfield',\n",
    "       'Greenwich', 'Hackney', 'Hammersmith & Fulham', 'Haringey',\n",
    "       'Harrow', 'Havering', 'Hillingdon', 'Hounslow', 'Islington',\n",
    "       'Kensington & Chelsea', 'Kingston upon Thames', 'Lambeth',\n",
    "       'Lewisham', 'Merton', 'Newham', 'Redbridge',\n",
    "       'Richmond upon Thames', 'Southwark', 'Sutton', 'Tower Hamlets',\n",
    "       'Waltham Forest', 'Wandsworth', 'Westminster']\n",
    "\n",
    "districts_yearly_avg = []\n",
    "\n",
    "for item in districts_list:\n",
    "\n",
    "    # Create the file name: file_name\n",
    "    district = properties_melt_clean.loc[properties_melt_clean.districts.isin([item])]\n",
    "    district = district.set_index('Date')\n",
    "    district = district.resample('Y').mean()\n",
    "    district['district'] = item\n",
    "    districts_yearly_avg.append(district)\n",
    "\n",
    "districts_yearly_avg = pd.concat(districts_yearly_avg, axis=0)\n",
    "print(districts_yearly_avg.head())\n",
    "print(districts_yearly_avg.tail())"
   ]
  },
  {
   "cell_type": "markdown",
   "metadata": {
    "colab_type": "text",
    "id": "2knuTxAEqoJ4"
   },
   "source": [
    "**3. Modeling**\n",
    "\n",
    "Consider creating a function that will calculate a ratio of house prices, comparing the price of a house in 2018 to the price in 1998.\n",
    "\n",
    "Consider calling this function create_price_ratio.\n",
    "\n",
    "You'd want this function to:\n",
    "1. Take a filter of dfg, specifically where this filter constrains the London_Borough, as an argument. For example, one admissible argument should be: dfg[dfg['London_Borough']=='Camden'].\n",
    "2. Get the Average Price for that Borough, for the years 1998 and 2018.\n",
    "4. Calculate the ratio of the Average Price for 1998 divided by the Average Price for 2018.\n",
    "5. Return that ratio.\n",
    "\n",
    "Once you've written this function, you ultimately want to use it to iterate through all the unique London_Boroughs and work out the ratio capturing the difference of house prices between 1998 and 2018.\n",
    "\n",
    "Bear in mind: you don't have to write a function like this if you don't want to. If you can solve the brief otherwise, then great! \n",
    "\n",
    "***Hint***: This section should test the skills you acquired in:\n",
    "- Python Data Science Toolbox - Part One, all modules"
   ]
  },
  {
   "cell_type": "code",
   "execution_count": 229,
   "metadata": {
    "colab": {},
    "colab_type": "code",
    "id": "cKTyr437UgDa"
   },
   "outputs": [
    {
     "name": "stdout",
     "output_type": "stream",
     "text": [
      "                district\n",
      "ratio                   \n",
      "5.353565     Westminster\n",
      "5.449221        Lewisham\n",
      "5.516485       Southwark\n",
      "5.834756  Waltham Forest\n",
      "6.198286         Hackney\n"
     ]
    }
   ],
   "source": [
    "from collections import OrderedDict\n",
    "\n",
    "def create_price_ratio(df, start_year, end_year):\n",
    "    '''Compare the price of rent in 2018 to the price in 1998'''\n",
    "    x = df.loc[start_year]\n",
    "    y = df.loc[end_year]\n",
    "    pivot = pd.merge(x,y, how='left', on=['district'])\n",
    "    return pivot\n",
    "        \n",
    "result = create_price_ratio(districts_yearly_avg,'1998','2018')\n",
    "result['ratio'] = result['rent_price_y'] /result['rent_price_x'] \n",
    "\n",
    "result = result.iloc[:,[1,3]]\n",
    "result = result.set_index('ratio')\n",
    "\n",
    "a = result.sort_index()\n",
    "\n",
    "print(a.tail())"
   ]
  },
  {
   "cell_type": "markdown",
   "metadata": {
    "colab_type": "text",
    "id": "NzYUI7FxJpgv"
   },
   "source": [
    "### 4. Conclusion\n",
    "What can you conclude? Type out your conclusion below. \n",
    "\n",
    "Look back at your notebook. Think about how you might summarize what you have done, and prepare a quick presentation on it to your mentor at your next meeting. \n",
    "\n",
    "We hope you enjoyed this practical project. It should have consolidated your data hygiene and pandas skills by looking at a real-world problem involving just the kind of dataset you might encounter as a budding data scientist. Congratulations, and looking forward to seeing you at the next step in the course! "
   ]
  },
  {
   "cell_type": "markdown",
   "metadata": {},
   "source": [
    "***Hackney, Waltham Forest, Southwark, Lewisham and Westminster are the 5 districts of London that have seen the greatest increase in housing prices, on average, over the last two decades***\n",
    "\n",
    "As a summary of this work, \n",
    "- I downloaded a dataset, explored it, transposed, rename the columns properly, melt the dataset and put all rent_price as float to make it easier to analyse.\n",
    "- I removed unnecessary columns and empty columns, checked that I was left with a dataset with smae nomber of values for each columns.\n",
    "- I created a subset for the district Barnet adn plot its rent price on a line chart.\n",
    "- I used a for loop to put the data on a yearly level, calculating the mean rent price by year, district and combine the newly created dataset into one dataframe.\n",
    "- I created a function to have the rent price of 1998 and 2008 in the same row to be able to calculate the increase ratio.\n",
    "- I sorted the top 5 highest ratio to determine which districts had the greatest increase in house price.\n",
    "\n",
    "Below I was curious to see if other districts were still more expansive that the 5 districts that had the highest increase in rent, and effectively, even if Lewisham, Southwark, Watham Forest and Hackney had some of the highest increase in rent, the districts of Hammersmith & Fulham, City of London, Camden and Kensington & Chelsea are still more expensive.\n",
    "\n",
    "Westminster is the only district that has both one of the highest rent increase and is one of the most expense districts of London."
   ]
  },
  {
   "cell_type": "code",
   "execution_count": 227,
   "metadata": {},
   "outputs": [
    {
     "name": "stdout",
     "output_type": "stream",
     "text": [
      "               rent_price_x              district\n",
      "rent_price_y                                     \n",
      "7.255253e+05  175340.921250  Hammersmith & Fulham\n",
      "7.848089e+05  148031.894542        City of London\n",
      "8.424104e+05  170688.973933                Camden\n",
      "1.020025e+06  190531.949942           Westminster\n",
      "1.363880e+06  268350.122142  Kensington & Chelsea\n"
     ]
    }
   ],
   "source": [
    "from collections import OrderedDict\n",
    "\n",
    "def create_price_ratio(df, start_year, end_year):\n",
    "    '''Compare the price of rent in 2018 to the price in 1998'''\n",
    "    x = df.loc[start_year]\n",
    "    y = df.loc[end_year]\n",
    "    pivot = pd.merge(x,y, how='left', on=['district'])\n",
    "    return pivot\n",
    "        \n",
    "result_higher_rent = create_price_ratio(districts_yearly_avg,'1998','2018')\n",
    "result_higher_rent = result.set_index('rent_price_y')\n",
    "\n",
    "b = result_higher_rent.sort_index()\n",
    "\n",
    "print(b.tail())"
   ]
  },
  {
   "cell_type": "code",
   "execution_count": 233,
   "metadata": {},
   "outputs": [
    {
     "data": {
      "image/png": "[encoded data removed]",
      "text/plain": [
       "<Figure size 432x288 with 1 Axes>"
      ]
     },
     "metadata": {
      "needs_background": "light"
     },
     "output_type": "display_data"
    }
   ],
   "source": [
    "top_5 = properties_melt_clean.loc[properties_melt_clean.districts.isin(['Hackney','Waltham Forest','Southwark','Lewisham','Westminster','Hammersmith & Fulham', 'City of London','Camden','Kensington & Chelsea'])]\n",
    "\n",
    "#top_5.set_index('Date', inplace=True)\n",
    "\n",
    "top_ratio_rent = top_5.pivot_table(index='Date', columns='districts')\n",
    "\n",
    "top_ratio_rent.plot()\n",
    "plt.show()"
   ]
  },
  {
   "cell_type": "code",
   "execution_count": null,
   "metadata": {},
   "outputs": [],
   "source": []
  }
 ],
 "metadata": {
  "colab": {
   "collapsed_sections": [],
   "name": "Springboard Data Science Career Track Unit 4 Challenge - Tier 3 Complete .ipynb",
   "provenance": []
  },
  "kernelspec": {
   "display_name": "Python 3",
   "language": "python",
   "name": "python3"
  },
  "language_info": {
   "codemirror_mode": {
    "name": "ipython",
    "version": 3
   },
   "file_extension": ".py",
   "mimetype": "text/x-python",
   "name": "python",
   "nbconvert_exporter": "python",
   "pygments_lexer": "ipython3",
   "version": "3.7.3"
  },
  "toc": {
   "base_numbering": 1,
   "nav_menu": {},
   "number_sections": true,
   "sideBar": true,
   "skip_h1_title": false,
   "title_cell": "Table of Contents",
   "title_sidebar": "Contents",
   "toc_cell": false,
   "toc_position": {},
   "toc_section_display": true,
   "toc_window_display": false
  }
 },
 "nbformat": 4,
 "nbformat_minor": 1
}
