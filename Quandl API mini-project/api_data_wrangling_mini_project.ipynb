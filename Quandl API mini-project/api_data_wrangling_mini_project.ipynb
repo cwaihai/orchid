{
 "cells": [
  {
   "cell_type": "markdown",
   "metadata": {},
   "source": [
    "This exercise will require you to pull some data from the Quandl API. Qaundl is currently the most widely used aggregator of financial market data."
   ]
  },
  {
   "cell_type": "markdown",
   "metadata": {},
   "source": [
    "As a first step, you will need to register a free account on the http://www.quandl.com website."
   ]
  },
  {
   "cell_type": "markdown",
   "metadata": {},
   "source": [
    "After you register, you will be provided with a unique API key, that you should store:"
   ]
  },
  {
   "cell_type": "code",
   "execution_count": 129,
   "metadata": {},
   "outputs": [],
   "source": [
    "# Store the API key as a string - according to PEP8, constants are always named in all upper case\n",
    "API_KEY = ''"
   ]
  },
  {
   "cell_type": "markdown",
   "metadata": {},
   "source": [
    "Quandl has a large number of data sources, but, unfortunately, most of them require a Premium subscription. Still, there are also a good number of free datasets."
   ]
  },
  {
   "cell_type": "markdown",
   "metadata": {},
   "source": [
    "For this mini project, we will focus on equities data from the Frankfurt Stock Exhange (FSE), which is available for free. We'll try and analyze the stock prices of a company called Carl Zeiss Meditec, which manufactures tools for eye examinations, as well as medical lasers for laser eye surgery: https://www.zeiss.com/meditec/int/home.html. The company is listed under the stock ticker AFX_X."
   ]
  },
  {
   "cell_type": "markdown",
   "metadata": {},
   "source": [
    "You can find the detailed Quandl API instructions here: https://docs.quandl.com/docs/time-series"
   ]
  },
  {
   "cell_type": "markdown",
   "metadata": {},
   "source": [
    "While there is a dedicated Python package for connecting to the Quandl API, we would prefer that you use the *requests* package, which can be easily downloaded using *pip* or *conda*. You can find the documentation for the package here: http://docs.python-requests.org/en/master/ "
   ]
  },
  {
   "cell_type": "markdown",
   "metadata": {},
   "source": [
    "Finally, apart from the *requests* package, you are encouraged to not use any third party Python packages, such as *pandas*, and instead focus on what's available in the Python Standard Library (the *collections* module might come in handy: https://pymotw.com/3/collections/ ).\n",
    "Also, since you won't have access to DataFrames, you are encouraged to us Python's native data structures - preferably dictionaries, though some questions can also be answered using lists.\n",
    "You can read more on these data structures here: https://docs.python.org/3/tutorial/datastructures.html"
   ]
  },
  {
   "cell_type": "markdown",
   "metadata": {},
   "source": [
    "Keep in mind that the JSON responses you will be getting from the API map almost one-to-one to Python's dictionaries. Unfortunately, they can be very nested, so make sure you read up on indexing dictionaries in the documentation provided above."
   ]
  },
  {
   "cell_type": "code",
   "execution_count": 130,
   "metadata": {},
   "outputs": [],
   "source": [
    "# First, import the relevant modules\n",
    "import requests\n",
    "import collections\n",
    "import numpy as np"
   ]
  },
  {
   "cell_type": "code",
   "execution_count": 131,
   "metadata": {},
   "outputs": [],
   "source": [
    "# Now, call the Quandl API and pull out a small sample of the data (only one day) to get a glimpse\n",
    "# into the JSON structure that will be returned\n",
    "url = \"https://www.quandl.com/api/v3/datasets/FSE/AFX_X/data.json?start_date=2020-01-01&end_date=2020-05-03&api_key=\"+API_KEY"
   ]
  },
  {
   "cell_type": "code",
   "execution_count": 132,
   "metadata": {},
   "outputs": [],
   "source": [
    "r = requests.get(url)\n",
    "\n",
    "# Decode the JSON data into a dictionary: json_data\n",
    "json_data = r.json()"
   ]
  },
  {
   "cell_type": "code",
   "execution_count": 133,
   "metadata": {},
   "outputs": [
    {
     "name": "stdout",
     "output_type": "stream",
     "text": [
      "limit:  None\n",
      "transform:  None\n",
      "column_index:  None\n",
      "column_names:  ['Date', 'Open', 'High', 'Low', 'Close', 'Change', 'Traded Volume', 'Turnover', 'Last Price of the Day', 'Daily Traded Units', 'Daily Turnover']\n",
      "start_date:  2020-01-01\n",
      "end_date:  2020-05-03\n",
      "frequency:  daily\n",
      "data:  [['2020-04-30', 91.6, 92.1, 89.9, 89.95, None, 137448.0, 12454130.55, None, None, None], ['2020-04-29', 90.0, 91.0, 87.85, 90.95, None, 143888.0, 12901979.9, None, None, None], ['2020-04-28', 92.0, 92.2, 89.15, 89.65, None, 163949.0, 14804941.85, None, None, None], ['2020-04-27', 95.05, 95.35, 92.1, 92.1, None, 109266.0, 10128133.7, None, None, None], ['2020-04-24', 94.4, 94.6, 92.35, 93.1, None, 111240.0, 10358166.75, None, None, None], ['2020-04-23', 94.75, 95.5, 92.7, 94.8, None, 123862.0, 11684265.45, None, None, None], ['2020-04-22', 92.75, 94.65, 91.6, 94.65, None, 126830.0, 11898048.5, None, None, None], ['2020-04-21', 93.4, 93.95, 91.5, 91.5, None, 115152.0, 10603440.3, None, None, None], ['2020-04-20', 94.0, 94.65, 91.9, 94.15, None, 124634.0, 11640880.35, None, None, None], ['2020-04-17', 93.4, 94.05, 91.85, 92.9, None, 185554.0, 17165035.1, None, None, None], ['2020-04-16', 91.9, 92.75, 90.7, 91.45, None, 162831.0, 14907520.55, None, None, None], ['2020-04-15', 94.0, 94.6, 90.15, 90.95, None, 204001.0, 18647943.8, None, None, None], ['2020-04-14', 97.5, 98.0, 93.35, 94.05, None, 147594.0, 13964369.1, None, None, None], ['2020-04-09', 93.1, 95.4, 92.05, 95.4, None, 161578.0, 15199731.2, None, None, None], ['2020-04-08', 90.2, 92.25, 89.8, 92.2, None, 152911.0, 14008042.75, None, None, None], ['2020-04-07', 92.0, 92.55, 88.9, 89.5, None, 218796.0, 19809733.65, None, None, None], ['2020-04-06', 86.35, 89.65, 86.25, 89.65, None, 165074.0, 14584495.75, None, None, None], ['2020-04-03', 83.1, 85.45, 82.5, 84.0, None, 184124.0, 15495174.4, None, None, None], ['2020-04-02', 86.0, 87.15, 79.5, 82.5, None, 300359.0, 24916457.15, None, None, None], ['2020-04-01', 86.5, 86.9, 85.0, 86.1, None, 192187.0, 16541381.35, None, None, None], ['2020-03-31', 92.0, 92.65, 88.15, 88.35, None, 311491.0, 27892906.55, None, None, None], ['2020-03-30', 85.4, 88.9, 83.1, 88.9, None, 167955.0, 14624880.3, None, None, None], ['2020-03-27', 89.0, 90.85, 83.5, 83.95, None, 231618.0, 19986099.3, None, None, None], ['2020-03-26', 81.5, 91.05, 81.5, 91.05, None, 274322.0, 23971500.55, None, None, None], ['2020-03-25', 82.5, 90.4, 80.6, 83.1, None, 284087.0, 23870691.15, None, None, None], ['2020-03-24', 79.2, 79.45, 76.6, 79.45, None, 256310.0, 20107995.1, None, None, None], ['2020-03-23', 74.5, 77.05, 72.9, 75.0, None, 187013.0, 14032458.1, None, None, None], ['2020-03-20', 76.65, 82.35, 75.7, 78.25, None, 446534.0, 34997042.95, None, None, None], ['2020-03-19', 69.15, 74.7, 67.7, 73.45, None, 272648.0, 19466640.1, None, None, None], ['2020-03-18', 74.5, 75.25, 69.55, 69.7, None, 341817.0, 24444114.6, None, None, None], ['2020-03-17', 79.0, 80.1, 73.5, 75.1, None, 265313.0, 20046246.2, None, None, None], ['2020-03-16', 75.0, 76.9, 71.45, 76.15, None, 422533.0, 31664759.85, None, None, None], ['2020-03-13', 77.75, 84.05, 76.85, 78.85, None, 457906.0, 36529317.4, None, None, None], ['2020-03-12', 77.75, 81.65, 75.8, 76.45, None, 428846.0, 33545984.85, None, None, None], ['2020-03-11', 87.6, 88.45, 83.85, 84.3, None, 250339.0, 21276696.5, None, None, None], ['2020-03-10', 88.25, 90.3, 86.0, 86.8, None, 324702.0, 28663267.75, None, None, None], ['2020-03-09', 87.65, 92.15, 85.1, 87.2, None, 392049.0, 34832184.95, None, None, None], ['2020-03-06', 95.0, 95.1, 91.9, 94.15, None, 211996.0, 19868077.2, None, None, None], ['2020-03-05', 101.3, 102.6, 96.35, 97.2, None, 230406.0, 22585334.7, None, None, None], ['2020-03-04', 98.3, 100.5, 97.55, 100.1, None, 251085.0, 24993655.35, None, None, None], ['2020-03-03', 97.1, 99.9, 95.55, 98.05, None, 435677.0, 42953287.0, None, None, None], ['2020-03-02', 96.5, 98.3, 93.55, 95.05, None, 285867.0, 27318381.65, None, None, None], ['2020-02-28', 90.05, 94.75, 89.65, 94.75, None, 468539.0, 43691138.55, None, None, None], ['2020-02-27', 97.95, 98.3, 93.75, 95.05, None, 253380.0, 24293170.5, None, None, None], ['2020-02-26', 98.5, 100.8, 96.35, 100.2, None, 371150.0, 36784605.3, None, None, None], ['2020-02-25', 105.6, 106.4, 100.6, 101.2, None, 250020.0, 25613306.6, None, None, None], ['2020-02-24', 104.0, 105.5, 102.2, 104.7, None, 211543.0, 22050204.4, None, None, None], ['2020-02-21', 110.1, 110.2, 107.7, 108.2, None, 119055.0, 12948891.0, None, None, None], ['2020-02-20', 111.3, 112.8, 109.9, 110.4, None, 139229.0, 15421757.0, None, None, None], ['2020-02-19', 110.3, 112.4, 109.5, 111.2, None, 138008.0, 15341487.0, None, None, None], ['2020-02-18', 107.2, 109.8, 107.0, 109.6, None, 111209.0, 12136682.0, None, None, None], ['2020-02-17', 108.9, 109.1, 107.6, 108.8, None, 71884.0, 7784747.5, None, None, None], ['2020-02-14', 109.2, 110.1, 108.2, 108.9, None, 127710.0, 13932329.0, None, None, None], ['2020-02-13', 110.0, 111.0, 107.6, 109.5, None, 175311.0, 19094774.0, None, None, None], ['2020-02-12', 112.4, 112.4, 109.7, 110.0, None, 153713.0, 16973868.0, None, None, None], ['2020-02-11', 110.1, 113.6, 109.3, 112.2, None, 266600.0, 29766104.0, None, None, None], ['2020-02-10', 114.0, 121.1, 107.0, 109.4, None, 449853.0, 50064696.0, None, None, None], ['2020-02-07', 116.4, 117.4, 114.1, 114.9, None, 158446.0, 18250740.0, None, None, None], ['2020-02-06', 117.0, 117.2, 114.7, 116.4, None, 98097.0, 11377620.0, None, None, None], ['2020-02-05', 116.4, 117.0, 115.8, 116.1, None, 141363.0, 16440834.0, None, None, None], ['2020-02-04', 112.1, 115.7, 111.7, 115.0, None, 214584.0, 24603160.0, None, None, None], ['2020-02-03', 110.0, 112.0, 109.3, 111.4, None, 231387.0, 25691706.0, None, None, None], ['2020-01-31', 112.5, 113.7, 110.1, 110.5, None, 257830.0, 28708798.0, None, None, None], ['2020-01-30', 116.8, 118.0, 112.8, 113.3, None, 198663.0, 22749126.0, None, None, None], ['2020-01-29', 118.3, 118.8, 117.4, 117.7, None, 88563.0, 10438738.0, None, None, None], ['2020-01-28', 118.8, 119.6, 115.2, 118.1, None, 134333.0, 15754191.0, None, None, None], ['2020-01-27', 119.6, 119.7, 117.9, 118.0, None, 110778.0, 13126700.0, None, None, None], ['2020-01-24', 119.5, 120.7, 118.6, 120.2, None, 102713.0, 12323204.0, None, None, None], ['2020-01-23', 120.2, 120.9, 118.8, 118.8, None, 92012.0, 11007938.0, None, None, None], ['2020-01-22', 120.2, 121.1, 119.2, 119.7, None, 74016.0, 8885031.0, None, None, None], ['2020-01-21', 121.4, 121.4, 118.9, 119.6, None, 98600.0, 11805317.0, None, None, None], ['2020-01-20', 121.2, 122.1, 120.7, 121.4, None, 63664.0, 7721389.5, None, None, None], ['2020-01-17', 119.9, 121.1, 119.3, 120.8, None, 63663.0, 7671528.0, None, None, None], ['2020-01-16', 120.4, 120.8, 119.0, 119.2, None, 66065.0, 7893356.5, None, None, None], ['2020-01-15', 119.5, 120.7, 119.1, 120.0, None, 111393.0, 13370345.0, None, None, None], ['2020-01-14', 117.6, 119.5, 116.7, 119.3, None, 105126.0, 12492392.0, None, None, None], ['2020-01-13', 118.0, 118.9, 117.0, 117.2, None, 84067.0, 9891618.0, None, None, None], ['2020-01-10', 119.6, 120.4, 117.3, 117.5, None, 102423.0, 12098654.0, None, None, None], ['2020-01-09', 118.4, 119.8, 117.5, 119.2, None, 134426.0, 15973124.0, None, None, None], ['2020-01-08', 114.2, 116.8, 114.0, 116.4, None, 82884.0, 9602366.0, None, None, None], ['2020-01-07', 114.4, 116.9, 114.3, 114.9, None, 98974.0, 11431904.0, None, None, None], ['2020-01-06', 112.0, 114.3, 111.7, 114.0, None, 95697.0, 10844169.0, None, None, None], ['2020-01-03', 112.8, 113.4, 112.0, 113.4, None, 82304.0, 9289987.0, None, None, None], ['2020-01-02', 114.0, 114.9, 112.7, 113.8, None, 143464.0, 16291666.0, None, None, None]]\n",
      "collapse:  None\n",
      "order:  None\n"
     ]
    }
   ],
   "source": [
    "# Inspect the JSON structure of the object you created, and take note of how nested it is,\n",
    "# as well as the overall structure\n",
    "dataset = json_data['dataset_data']\n",
    "# Print each key-value pair in dataset\n",
    "for k in dataset.keys():\n",
    "    print(k + ': ', dataset[k])"
   ]
  },
  {
   "cell_type": "markdown",
   "metadata": {},
   "source": [
    "These are your tasks for this mini project:\n",
    "\n",
    "1. Collect data from the Franfurt Stock Exchange, for the ticker AFX_X, for the whole year 2017 (keep in mind that the date format is YYYY-MM-DD).\n",
    "2. Convert the returned JSON object into a Python dictionary.\n",
    "3. Calculate what the highest and lowest opening prices were for the stock in this period.\n",
    "4. What was the largest change in any one day (based on High and Low price)?\n",
    "5. What was the largest change between any two days (based on Closing Price)?\n",
    "6. What was the average daily trading volume during this year?\n",
    "7. (Optional) What was the median trading volume during this year. (Note: you may need to implement your own function for calculating the median.)"
   ]
  },
  {
   "cell_type": "code",
   "execution_count": 134,
   "metadata": {},
   "outputs": [],
   "source": [
    "# 1. Collect data from the Franfurt Stock Exchange, for the ticker AFX_X, for the whole year 2017 (keep in mind that \n",
    "# the date format is YYYY-MM-DD).\n",
    "url = 'https://www.quandl.com/api/v3/datasets/FSE/AFX_X/data.json?start_date=2017-01-01&end_date=2017-12-31&api_key='+API_KEY\n",
    "r = requests.get(url)"
   ]
  },
  {
   "cell_type": "code",
   "execution_count": 135,
   "metadata": {},
   "outputs": [
    {
     "name": "stdout",
     "output_type": "stream",
     "text": [
      "0 Date\n",
      "1 Open\n",
      "2 High\n",
      "3 Low\n",
      "4 Close\n",
      "5 Change\n",
      "6 Traded Volume\n",
      "7 Turnover\n",
      "8 Last Price of the Day\n",
      "9 Daily Traded Units\n",
      "10 Daily Turnover\n"
     ]
    }
   ],
   "source": [
    "# 2. Convert the returned JSON object into a Python dictionary.\n",
    "json_data = r.json()\n",
    "\n",
    "# Explore the columns of the data returned by the API\n",
    "columns = json_data['dataset_data']['column_names']\n",
    "for i,x in enumerate(columns):\n",
    "    print(i,x)"
   ]
  },
  {
   "cell_type": "code",
   "execution_count": 136,
   "metadata": {},
   "outputs": [],
   "source": [
    "# Create one list for each column of data\n",
    "data = json_data['dataset_data']['data']\n",
    "\n",
    "for i in range(len(columns)):\n",
    "    columns[i]=[]\n",
    "    for item in data:\n",
    "        if item[i]!=None:\n",
    "            columns[i].append(item[i])"
   ]
  },
  {
   "cell_type": "code",
   "execution_count": 137,
   "metadata": {},
   "outputs": [
    {
     "name": "stdout",
     "output_type": "stream",
     "text": [
      "53.11\n",
      "34.0\n"
     ]
    }
   ],
   "source": [
    "# 3. Calculate what the highest and lowest opening prices were for the stock in this period.\n",
    "open_list = columns[1]\n",
    "max_open = max(open_list)\n",
    "min_open = min(open_list)\n",
    "\n",
    "# Print the highest and lowest price\n",
    "print(max_open)\n",
    "print(min_open)"
   ]
  },
  {
   "cell_type": "code",
   "execution_count": 138,
   "metadata": {},
   "outputs": [
    {
     "name": "stdout",
     "output_type": "stream",
     "text": [
      "2.8100000000000023\n"
     ]
    }
   ],
   "source": [
    "# 4.What was the largest change in any one day (based on High and Low price)?\n",
    "high = columns[2]\n",
    "low = columns[3]\n",
    "\n",
    "change = []\n",
    "for i in range(len(data)):\n",
    "    if high[i]-low[i]!=None:\n",
    "      change.append(high[i]-low[i])  \n",
    "\n",
    "# Print the maximum change in one day\n",
    "max_change = max(change)\n",
    "print(max_change)"
   ]
  },
  {
   "cell_type": "code",
   "execution_count": 139,
   "metadata": {},
   "outputs": [
    {
     "name": "stdout",
     "output_type": "stream",
     "text": [
      "2.559999999999995\n"
     ]
    }
   ],
   "source": [
    "#5 What was the largest change between any two days (based on Closing Price)?\n",
    "close = columns[4]\n",
    "\n",
    "# Get absolute value of the difference between closing price x of day i and day i-1\n",
    "change = [abs(x - close[i-1]) for i,x in enumerate(close)][1:]\n",
    "\n",
    "# Print the maximum change during 2 days consecutive at closing price\n",
    "max_change = max(change)\n",
    "print(max_change)"
   ]
  },
  {
   "cell_type": "code",
   "execution_count": 140,
   "metadata": {},
   "outputs": [
    {
     "name": "stdout",
     "output_type": "stream",
     "text": [
      "89124.33725490196\n"
     ]
    }
   ],
   "source": [
    "#6.What was the average daily trading volume during this year?\n",
    "daily_volume = columns[6]\n",
    "avg_daily_volume =sum(daily_volume)/len(daily_volume)\n",
    "print(avg_daily_volume)"
   ]
  },
  {
   "cell_type": "code",
   "execution_count": 141,
   "metadata": {},
   "outputs": [
    {
     "name": "stdout",
     "output_type": "stream",
     "text": [
      "76286.0\n"
     ]
    }
   ],
   "source": [
    "# 7. (Optional) What was the median trading volume during this year. (Note: you may need to implement your own function \n",
    "# for calculating the median.)\n",
    "\n",
    "def median(anylist):\n",
    "    sorted_anylist = sorted(anylist)\n",
    "    len_anylist = len(anylist)\n",
    "    index = (len_anylist-1)//2\n",
    "    \n",
    "    if (len_anylist%2):\n",
    "        return sorted_anylist[index]\n",
    "    else:\n",
    "        return (sorted_anylist[index]+sorted_anylist[index+1])//2.0\n",
    "    \n",
    "median = str(median(daily_volume))\n",
    "print(median)"
   ]
  },
  {
   "cell_type": "code",
   "execution_count": null,
   "metadata": {},
   "outputs": [],
   "source": []
  }
 ],
 "metadata": {
  "kernelspec": {
   "display_name": "Python 3",
   "language": "python",
   "name": "python3"
  },
  "language_info": {
   "codemirror_mode": {
    "name": "ipython",
    "version": 3
   },
   "file_extension": ".py",
   "mimetype": "text/x-python",
   "name": "python",
   "nbconvert_exporter": "python",
   "pygments_lexer": "ipython3",
   "version": "3.7.6"
  },
  "toc": {
   "base_numbering": 1,
   "nav_menu": {},
   "number_sections": true,
   "sideBar": true,
   "skip_h1_title": false,
   "title_cell": "Table of Contents",
   "title_sidebar": "Contents",
   "toc_cell": false,
   "toc_position": {},
   "toc_section_display": true,
   "toc_window_display": false
  }
 },
 "nbformat": 4,
 "nbformat_minor": 2
}
