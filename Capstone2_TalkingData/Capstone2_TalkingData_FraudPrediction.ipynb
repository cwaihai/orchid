{
 "cells": [
  {
   "cell_type": "markdown",
   "metadata": {},
   "source": [
    "# Data Wrangling"
   ]
  },
  {
   "cell_type": "markdown",
   "metadata": {},
   "source": [
    "## Data Collection: TalkingData Ad Tracking Fraud (Kaggle)"
   ]
  },
  {
   "cell_type": "code",
   "execution_count": 8,
   "metadata": {},
   "outputs": [],
   "source": [
    "# import packages\n",
    "import os\n",
    "import pandas as pd\n",
    "from zipfile import ZipFile\n",
    "import datetime\n",
    "import seaborn as sns\n",
    "import matplotlib.pyplot as plt"
   ]
  },
  {
   "cell_type": "code",
   "execution_count": 2,
   "metadata": {},
   "outputs": [],
   "source": [
    "# Set-up path\n",
    "path=\"/Users/carolewaihai/Documents/springboard/Unit 7/capstone2\"\n",
    "os.chdir(path) "
   ]
  },
  {
   "cell_type": "code",
   "execution_count": 3,
   "metadata": {},
   "outputs": [],
   "source": [
    "# Download train.csv.zip & test.csv.zip from kaggle: \n",
    "# https://www.kaggle.com/c/talkingdata-adtracking-fraud-detection/data?select=train.csv\n",
    "\n",
    "# Store the zip files into data/raw/zip\n",
    "# Unzip both files to into data/raw\n",
    "#zipfile = ZipFile('data/raw/train.csv.zip', mode='r')\n",
    "#zipfile.extractall('data/raw/')\n",
    "\n",
    "# Faster way to load the data by batch\n",
    "# Open a connection to the file\n",
    "with open('data/raw/train.csv', encoding='utf-8-sig') as file:\n",
    "\n",
    "    # Process only the first 10 rows\n",
    "    for j in range(0,10):\n",
    "\n",
    "        # Split the current line into a list: line\n",
    "        line = file.readline().split(',')\n",
    "        print(line)"
   ]
  },
  {
   "cell_type": "code",
   "execution_count": 4,
   "metadata": {},
   "outputs": [
    {
     "name": "stdout",
     "output_type": "stream",
     "text": [
      "       ip  app  device  os  channel           click_time attributed_time  \\\n",
      "0   87540   12       1  13      497  2017-11-07 09:30:38             NaN   \n",
      "1  105560   25       1  17      259  2017-11-07 13:40:27             NaN   \n",
      "2  101424   12       1  19      212  2017-11-07 18:05:24             NaN   \n",
      "3   94584   13       1  13      477  2017-11-07 04:58:08             NaN   \n",
      "4   68413   12       1   1      178  2017-11-09 09:00:09             NaN   \n",
      "\n",
      "   is_attributed  \n",
      "0              0  \n",
      "1              0  \n",
      "2              0  \n",
      "3              0  \n",
      "4              0  \n"
     ]
    }
   ],
   "source": [
    "# Open directly into a dataframe\n",
    "df = pd.read_csv('data/raw/train_sample.csv')\n",
    "print(df.head())"
   ]
  },
  {
   "cell_type": "code",
   "execution_count": 5,
   "metadata": {},
   "outputs": [
    {
     "name": "stdout",
     "output_type": "stream",
     "text": [
      "<class 'pandas.core.frame.DataFrame'>\n",
      "RangeIndex: 100000 entries, 0 to 99999\n",
      "Data columns (total 8 columns):\n",
      " #   Column           Non-Null Count   Dtype \n",
      "---  ------           --------------   ----- \n",
      " 0   ip               100000 non-null  int64 \n",
      " 1   app              100000 non-null  int64 \n",
      " 2   device           100000 non-null  int64 \n",
      " 3   os               100000 non-null  int64 \n",
      " 4   channel          100000 non-null  int64 \n",
      " 5   click_time       100000 non-null  object\n",
      " 6   attributed_time  227 non-null     object\n",
      " 7   is_attributed    100000 non-null  int64 \n",
      "dtypes: int64(6), object(2)\n",
      "memory usage: 6.1+ MB\n"
     ]
    }
   ],
   "source": [
    "# Check general information about df\n",
    "df.info()"
   ]
  },
  {
   "cell_type": "markdown",
   "metadata": {},
   "source": [
    "The data is tidy (1 column = 1 variable, 1 row = 1 observation).\n",
    "The column 'attributed_time' is the only column with empty values.\n",
    "The only thing to fix is to change the type ;object' from columns 'click_time' and 'attributed_time' into datetime type."
   ]
  },
  {
   "cell_type": "code",
   "execution_count": 16,
   "metadata": {},
   "outputs": [],
   "source": [
    "# Changing data type of click_time and attributed_time\n",
    "df.click_time = pd.to_datetime(df.click_time)\n",
    "df.attributed_time = pd.to_datetime(df.attributed_time)"
   ]
  },
  {
   "cell_type": "code",
   "execution_count": 17,
   "metadata": {},
   "outputs": [
    {
     "name": "stdout",
     "output_type": "stream",
     "text": [
      "<class 'pandas.core.frame.DataFrame'>\n",
      "RangeIndex: 100000 entries, 0 to 99999\n",
      "Data columns (total 8 columns):\n",
      " #   Column           Non-Null Count   Dtype         \n",
      "---  ------           --------------   -----         \n",
      " 0   ip               100000 non-null  int64         \n",
      " 1   app              100000 non-null  int64         \n",
      " 2   device           100000 non-null  int64         \n",
      " 3   os               100000 non-null  int64         \n",
      " 4   channel          100000 non-null  int64         \n",
      " 5   click_time       100000 non-null  datetime64[ns]\n",
      " 6   attributed_time  227 non-null     datetime64[ns]\n",
      " 7   is_attributed    100000 non-null  int64         \n",
      "dtypes: datetime64[ns](2), int64(6)\n",
      "memory usage: 6.1 MB\n"
     ]
    }
   ],
   "source": [
    "df.info()"
   ]
  },
  {
   "cell_type": "code",
   "execution_count": 18,
   "metadata": {},
   "outputs": [
    {
     "data": {
      "text/html": [
       "<div>\n",
       "<style scoped>\n",
       "    .dataframe tbody tr th:only-of-type {\n",
       "        vertical-align: middle;\n",
       "    }\n",
       "\n",
       "    .dataframe tbody tr th {\n",
       "        vertical-align: top;\n",
       "    }\n",
       "\n",
       "    .dataframe thead th {\n",
       "        text-align: right;\n",
       "    }\n",
       "</style>\n",
       "<table border=\"1\" class=\"dataframe\">\n",
       "  <thead>\n",
       "    <tr style=\"text-align: right;\">\n",
       "      <th></th>\n",
       "      <th>ip</th>\n",
       "      <th>app</th>\n",
       "      <th>device</th>\n",
       "      <th>os</th>\n",
       "      <th>channel</th>\n",
       "      <th>is_attributed</th>\n",
       "    </tr>\n",
       "  </thead>\n",
       "  <tbody>\n",
       "    <tr>\n",
       "      <th>count</th>\n",
       "      <td>100000.000000</td>\n",
       "      <td>100000.00000</td>\n",
       "      <td>100000.000000</td>\n",
       "      <td>100000.000000</td>\n",
       "      <td>100000.000000</td>\n",
       "      <td>100000.000000</td>\n",
       "    </tr>\n",
       "    <tr>\n",
       "      <th>mean</th>\n",
       "      <td>91255.879670</td>\n",
       "      <td>12.04788</td>\n",
       "      <td>21.771250</td>\n",
       "      <td>22.818280</td>\n",
       "      <td>268.832460</td>\n",
       "      <td>0.002270</td>\n",
       "    </tr>\n",
       "    <tr>\n",
       "      <th>std</th>\n",
       "      <td>69835.553661</td>\n",
       "      <td>14.94150</td>\n",
       "      <td>259.667767</td>\n",
       "      <td>55.943136</td>\n",
       "      <td>129.724248</td>\n",
       "      <td>0.047591</td>\n",
       "    </tr>\n",
       "    <tr>\n",
       "      <th>min</th>\n",
       "      <td>9.000000</td>\n",
       "      <td>1.00000</td>\n",
       "      <td>0.000000</td>\n",
       "      <td>0.000000</td>\n",
       "      <td>3.000000</td>\n",
       "      <td>0.000000</td>\n",
       "    </tr>\n",
       "    <tr>\n",
       "      <th>25%</th>\n",
       "      <td>40552.000000</td>\n",
       "      <td>3.00000</td>\n",
       "      <td>1.000000</td>\n",
       "      <td>13.000000</td>\n",
       "      <td>145.000000</td>\n",
       "      <td>0.000000</td>\n",
       "    </tr>\n",
       "    <tr>\n",
       "      <th>50%</th>\n",
       "      <td>79827.000000</td>\n",
       "      <td>12.00000</td>\n",
       "      <td>1.000000</td>\n",
       "      <td>18.000000</td>\n",
       "      <td>258.000000</td>\n",
       "      <td>0.000000</td>\n",
       "    </tr>\n",
       "    <tr>\n",
       "      <th>75%</th>\n",
       "      <td>118252.000000</td>\n",
       "      <td>15.00000</td>\n",
       "      <td>1.000000</td>\n",
       "      <td>19.000000</td>\n",
       "      <td>379.000000</td>\n",
       "      <td>0.000000</td>\n",
       "    </tr>\n",
       "    <tr>\n",
       "      <th>max</th>\n",
       "      <td>364757.000000</td>\n",
       "      <td>551.00000</td>\n",
       "      <td>3867.000000</td>\n",
       "      <td>866.000000</td>\n",
       "      <td>498.000000</td>\n",
       "      <td>1.000000</td>\n",
       "    </tr>\n",
       "  </tbody>\n",
       "</table>\n",
       "</div>"
      ],
      "text/plain": [
       "                  ip           app         device             os  \\\n",
       "count  100000.000000  100000.00000  100000.000000  100000.000000   \n",
       "mean    91255.879670      12.04788      21.771250      22.818280   \n",
       "std     69835.553661      14.94150     259.667767      55.943136   \n",
       "min         9.000000       1.00000       0.000000       0.000000   \n",
       "25%     40552.000000       3.00000       1.000000      13.000000   \n",
       "50%     79827.000000      12.00000       1.000000      18.000000   \n",
       "75%    118252.000000      15.00000       1.000000      19.000000   \n",
       "max    364757.000000     551.00000    3867.000000     866.000000   \n",
       "\n",
       "             channel  is_attributed  \n",
       "count  100000.000000  100000.000000  \n",
       "mean      268.832460       0.002270  \n",
       "std       129.724248       0.047591  \n",
       "min         3.000000       0.000000  \n",
       "25%       145.000000       0.000000  \n",
       "50%       258.000000       0.000000  \n",
       "75%       379.000000       0.000000  \n",
       "max       498.000000       1.000000  "
      ]
     },
     "execution_count": 18,
     "metadata": {},
     "output_type": "execute_result"
    }
   ],
   "source": [
    "# Explore df\n",
    "df.describe()"
   ]
  },
  {
   "cell_type": "markdown",
   "metadata": {},
   "source": [
    "## Data Organization"
   ]
  },
  {
   "cell_type": "code",
   "execution_count": 20,
   "metadata": {},
   "outputs": [],
   "source": [
    "mkdir data/interim"
   ]
  },
  {
   "cell_type": "code",
   "execution_count": 21,
   "metadata": {},
   "outputs": [],
   "source": [
    "df.to_csv('data/interim/talkingdata_clicks.csv', index=False)"
   ]
  },
  {
   "cell_type": "markdown",
   "metadata": {},
   "source": [
    "## Data Definition "
   ]
  },
  {
   "cell_type": "code",
   "execution_count": 22,
   "metadata": {},
   "outputs": [
    {
     "data": {
      "text/plain": [
       "Index(['ip', 'app', 'device', 'os', 'channel', 'click_time', 'attributed_time',\n",
       "       'is_attributed'],\n",
       "      dtype='object')"
      ]
     },
     "execution_count": 22,
     "metadata": {},
     "output_type": "execute_result"
    }
   ],
   "source": [
    "#review the columns\n",
    "df.columns"
   ]
  },
  {
   "cell_type": "code",
   "execution_count": 23,
   "metadata": {},
   "outputs": [
    {
     "name": "stdout",
     "output_type": "stream",
     "text": [
      "Columns definitions\n",
      "\n",
      "ip: ip address of click.\n",
      "app: app id for marketing.\n",
      "device: device type id of user mobile phone (e.g., iphone 6 plus, iphone 7, huawei mate 7, etc.)\n",
      "os: os version id of user mobile phone\n",
      "channel: channel id of mobile ad publisher\n",
      "click_time: timestamp of click (UTC)\n",
      "attributed_time: if user download the app for after clicking an ad, this is the time of the app download\n",
      "is_attributed: the target that is to be predicted, indicating the app was downloaded\n",
      "\n",
      "Note that ip, app, device, os, and channel are encoded.\n",
      "\n"
     ]
    }
   ],
   "source": [
    "# Open the columns description text file.\n",
    "f = open(\"columns_definition.txt\", \"r\") \n",
    "print(f.read())"
   ]
  },
  {
   "cell_type": "code",
   "execution_count": 24,
   "metadata": {},
   "outputs": [
    {
     "data": {
      "text/plain": [
       "ip                 34857\n",
       "app                  161\n",
       "device               100\n",
       "os                   130\n",
       "channel              161\n",
       "click_time         80350\n",
       "attributed_time      227\n",
       "is_attributed          2\n",
       "dtype: int64"
      ]
     },
     "execution_count": 24,
     "metadata": {},
     "output_type": "execute_result"
    }
   ],
   "source": [
    "# Check the cardinality of each variable (how many uniques values)\n",
    "df.apply(pd.Series.nunique)"
   ]
  },
  {
   "cell_type": "markdown",
   "metadata": {},
   "source": [
    "click_time has the highest cardinality, it makes sense has it is time related (clicks rarely happened at the same time).\n",
    "ip address is the other only variable with high cardinality.\n",
    "\n",
    "app and channel have the same number of unique value, we need to check if it is a coincidence or 1 app = 1 channel.\n",
    "\n",
    "ip + device + os can be the closest feature we have to describe 1 user."
   ]
  },
  {
   "cell_type": "code",
   "execution_count": 29,
   "metadata": {},
   "outputs": [
    {
     "data": {
      "text/plain": [
       "5348      0.00669\n",
       "5314      0.00616\n",
       "73487     0.00439\n",
       "73516     0.00399\n",
       "53454     0.00280\n",
       "114276    0.00219\n",
       "26995     0.00218\n",
       "95766     0.00205\n",
       "17149     0.00186\n",
       "100275    0.00173\n",
       "Name: ip, dtype: float64"
      ]
     },
     "execution_count": 29,
     "metadata": {},
     "output_type": "execute_result"
    }
   ],
   "source": [
    "# Investigating ip in details\n",
    "(df.ip.value_counts()/len(df.ip)).head(10)"
   ]
  },
  {
   "cell_type": "code",
   "execution_count": 31,
   "metadata": {},
   "outputs": [
    {
     "data": {
      "text/html": [
       "<div>\n",
       "<style scoped>\n",
       "    .dataframe tbody tr th:only-of-type {\n",
       "        vertical-align: middle;\n",
       "    }\n",
       "\n",
       "    .dataframe tbody tr th {\n",
       "        vertical-align: top;\n",
       "    }\n",
       "\n",
       "    .dataframe thead th {\n",
       "        text-align: right;\n",
       "    }\n",
       "</style>\n",
       "<table border=\"1\" class=\"dataframe\">\n",
       "  <thead>\n",
       "    <tr style=\"text-align: right;\">\n",
       "      <th></th>\n",
       "      <th>min</th>\n",
       "      <th>max</th>\n",
       "    </tr>\n",
       "  </thead>\n",
       "  <tbody>\n",
       "    <tr>\n",
       "      <th>ip</th>\n",
       "      <td>9</td>\n",
       "      <td>364757</td>\n",
       "    </tr>\n",
       "    <tr>\n",
       "      <th>app</th>\n",
       "      <td>1</td>\n",
       "      <td>551</td>\n",
       "    </tr>\n",
       "    <tr>\n",
       "      <th>device</th>\n",
       "      <td>0</td>\n",
       "      <td>3867</td>\n",
       "    </tr>\n",
       "    <tr>\n",
       "      <th>os</th>\n",
       "      <td>0</td>\n",
       "      <td>866</td>\n",
       "    </tr>\n",
       "    <tr>\n",
       "      <th>channel</th>\n",
       "      <td>3</td>\n",
       "      <td>498</td>\n",
       "    </tr>\n",
       "    <tr>\n",
       "      <th>click_time</th>\n",
       "      <td>2017-11-06 16:00:00</td>\n",
       "      <td>2017-11-09 15:59:51</td>\n",
       "    </tr>\n",
       "    <tr>\n",
       "      <th>attributed_time</th>\n",
       "      <td>2017-11-06 17:19:04</td>\n",
       "      <td>2017-11-09 15:28:15</td>\n",
       "    </tr>\n",
       "    <tr>\n",
       "      <th>is_attributed</th>\n",
       "      <td>0</td>\n",
       "      <td>1</td>\n",
       "    </tr>\n",
       "  </tbody>\n",
       "</table>\n",
       "</div>"
      ],
      "text/plain": [
       "                                 min                  max\n",
       "ip                                 9               364757\n",
       "app                                1                  551\n",
       "device                             0                 3867\n",
       "os                                 0                  866\n",
       "channel                            3                  498\n",
       "click_time       2017-11-06 16:00:00  2017-11-09 15:59:51\n",
       "attributed_time  2017-11-06 17:19:04  2017-11-09 15:28:15\n",
       "is_attributed                      0                    1"
      ]
     },
     "execution_count": 31,
     "metadata": {},
     "output_type": "execute_result"
    }
   ],
   "source": [
    "# Exploration of min max values\n",
    "df.agg([min,max]).T"
   ]
  },
  {
   "cell_type": "markdown",
   "metadata": {},
   "source": [
    "No ip accounts for more than .7% of all the clicks."
   ]
  },
  {
   "cell_type": "markdown",
   "metadata": {},
   "source": [
    "## Data Cleaning "
   ]
  },
  {
   "cell_type": "markdown",
   "metadata": {},
   "source": [
    "### Null values "
   ]
  },
  {
   "cell_type": "markdown",
   "metadata": {},
   "source": [
    "Only attributed_time has null value when the click has not been attributed to any installs. We decide to leave the null value as is."
   ]
  },
  {
   "cell_type": "markdown",
   "metadata": {},
   "source": [
    "### Duplicated values "
   ]
  },
  {
   "cell_type": "code",
   "execution_count": 46,
   "metadata": {},
   "outputs": [
    {
     "data": {
      "text/html": [
       "<div>\n",
       "<style scoped>\n",
       "    .dataframe tbody tr th:only-of-type {\n",
       "        vertical-align: middle;\n",
       "    }\n",
       "\n",
       "    .dataframe tbody tr th {\n",
       "        vertical-align: top;\n",
       "    }\n",
       "\n",
       "    .dataframe thead th {\n",
       "        text-align: right;\n",
       "    }\n",
       "</style>\n",
       "<table border=\"1\" class=\"dataframe\">\n",
       "  <thead>\n",
       "    <tr style=\"text-align: right;\">\n",
       "      <th></th>\n",
       "      <th>ip</th>\n",
       "      <th>app</th>\n",
       "      <th>device</th>\n",
       "      <th>os</th>\n",
       "      <th>channel</th>\n",
       "      <th>click_time</th>\n",
       "      <th>attributed_time</th>\n",
       "      <th>is_attributed</th>\n",
       "    </tr>\n",
       "  </thead>\n",
       "  <tbody>\n",
       "    <tr>\n",
       "      <th>84125</th>\n",
       "      <td>871</td>\n",
       "      <td>12</td>\n",
       "      <td>1</td>\n",
       "      <td>13</td>\n",
       "      <td>178</td>\n",
       "      <td>2017-11-08 10:00:05</td>\n",
       "      <td>NaT</td>\n",
       "      <td>0</td>\n",
       "    </tr>\n",
       "  </tbody>\n",
       "</table>\n",
       "</div>"
      ],
      "text/plain": [
       "        ip  app  device  os  channel          click_time attributed_time  \\\n",
       "84125  871   12       1  13      178 2017-11-08 10:00:05             NaT   \n",
       "\n",
       "       is_attributed  \n",
       "84125              0  "
      ]
     },
     "execution_count": 46,
     "metadata": {},
     "output_type": "execute_result"
    }
   ],
   "source": [
    "# Search for duplicated rows\n",
    "duplicateRowsDF = df[df.duplicated()]\n",
    "duplicateRowsDF"
   ]
  },
  {
   "cell_type": "code",
   "execution_count": 47,
   "metadata": {},
   "outputs": [],
   "source": [
    "df = df.drop_duplicates()"
   ]
  },
  {
   "cell_type": "code",
   "execution_count": 48,
   "metadata": {},
   "outputs": [
    {
     "data": {
      "text/plain": [
       "(99999, 8)"
      ]
     },
     "execution_count": 48,
     "metadata": {},
     "output_type": "execute_result"
    }
   ],
   "source": [
    "df.shape"
   ]
  },
  {
   "cell_type": "code",
   "execution_count": 49,
   "metadata": {},
   "outputs": [],
   "source": [
    "df.to_csv('data/interim/talkingdata_clicks.csv', index=False)"
   ]
  },
  {
   "cell_type": "markdown",
   "metadata": {},
   "source": [
    "# Exploratory Data Analysis (EDA) "
   ]
  },
  {
   "cell_type": "code",
   "execution_count": 50,
   "metadata": {},
   "outputs": [
    {
     "data": {
      "text/plain": [
       "array([[<matplotlib.axes._subplots.AxesSubplot object at 0x1a4ef00610>,\n",
       "        <matplotlib.axes._subplots.AxesSubplot object at 0x1a4fdbe690>],\n",
       "       [<matplotlib.axes._subplots.AxesSubplot object at 0x1a4f3ac7d0>,\n",
       "        <matplotlib.axes._subplots.AxesSubplot object at 0x1a4f3bead0>],\n",
       "       [<matplotlib.axes._subplots.AxesSubplot object at 0x1a2345c8d0>,\n",
       "        <matplotlib.axes._subplots.AxesSubplot object at 0x1a2366c4d0>]],\n",
       "      dtype=object)"
      ]
     },
     "execution_count": 50,
     "metadata": {},
     "output_type": "execute_result"
    },
    {
     "data": {
      "image/png": "[encoded data removed]",
      "text/plain": [
       "<Figure size 1080x1080 with 6 Axes>"
      ]
     },
     "metadata": {
      "needs_background": "light"
     },
     "output_type": "display_data"
    }
   ],
   "source": [
    "# Use histogram to build data profiles\n",
    "df[['ip','app','device','os','channel']].hist(bins=25, figsize=(15, 15), layout=(3, 2), sharey=True)"
   ]
  },
  {
   "cell_type": "markdown",
   "metadata": {},
   "source": [
    "We observe from the data that app and channel are not distributed similarly, so the 161 uniques values are a coincidence."
   ]
  },
  {
   "cell_type": "code",
   "execution_count": 51,
   "metadata": {},
   "outputs": [
    {
     "data": {
      "image/png": "[encoded data removed]",
      "text/plain": [
       "<Figure size 432x432 with 1 Axes>"
      ]
     },
     "metadata": {
      "needs_background": "light"
     },
     "output_type": "display_data"
    }
   ],
   "source": [
    "#Let's explore the is_attributed column\n",
    "plt.figure(figsize=(6,6))\n",
    "mean = (df.is_attributed.values == 1).mean() #get the pourcentage of clicks attributed\n",
    "\n",
    "ax = sns.barplot(['App Downloaded (1)', 'Not Downloaded (0)'], [mean, 1-mean])\n",
    "ax.set(ylabel='Proportion', title='App Downloaded vs Not Downloaded')\n",
    "for p, uniq in zip(ax.patches, [mean, 1-mean]):\n",
    "    height = p.get_height()\n",
    "    ax.text(p.get_x()+p.get_width()/2.,\n",
    "            height+0.01,\n",
    "            '{}%'.format(round(uniq * 100, 2)),\n",
    "            ha=\"center\")"
   ]
  },
  {
   "cell_type": "markdown",
   "metadata": {},
   "source": [
    "The dataset show an important inbalance in the number of click attributed vs non-attributed."
   ]
  },
  {
   "cell_type": "code",
   "execution_count": 60,
   "metadata": {},
   "outputs": [
    {
     "name": "stderr",
     "output_type": "stream",
     "text": [
      "/opt/anaconda3/lib/python3.7/site-packages/ipykernel_launcher.py:2: SettingWithCopyWarning: \n",
      "A value is trying to be set on a copy of a slice from a DataFrame.\n",
      "Try using .loc[row_indexer,col_indexer] = value instead\n",
      "\n",
      "See the caveats in the documentation: https://pandas.pydata.org/pandas-docs/stable/user_guide/indexing.html#returning-a-view-versus-a-copy\n",
      "  \n",
      "/opt/anaconda3/lib/python3.7/site-packages/ipykernel_launcher.py:3: SettingWithCopyWarning: \n",
      "A value is trying to be set on a copy of a slice from a DataFrame.\n",
      "Try using .loc[row_indexer,col_indexer] = value instead\n",
      "\n",
      "See the caveats in the documentation: https://pandas.pydata.org/pandas-docs/stable/user_guide/indexing.html#returning-a-view-versus-a-copy\n",
      "  This is separate from the ipykernel package so we can avoid doing imports until\n"
     ]
    },
    {
     "data": {
      "image/png": "[encoded data removed]",
      "text/plain": [
       "<Figure size 432x288 with 1 Axes>"
      ]
     },
     "metadata": {
      "needs_background": "light"
     },
     "output_type": "display_data"
    },
    {
     "data": {
      "image/png": "[encoded data removed]",
      "text/plain": [
       "<Figure size 432x288 with 1 Axes>"
      ]
     },
     "metadata": {
      "needs_background": "light"
     },
     "output_type": "display_data"
    }
   ],
   "source": [
    "#round the time to nearest hour\n",
    "df['click_time_h']=df['click_time'].dt.round('H')  \n",
    "df['attributed_time_h']=df['attributed_time'].dt.round('H')  \n",
    "\n",
    "\n",
    "#check for hourly patterns\n",
    "df[['click_time_h','is_attributed']].groupby(['click_time_h'], as_index=True).count().plot()\n",
    "plt.title('Total clicks');\n",
    "plt.ylabel('Number of Clicks');\n",
    "\n",
    "#check for hourly patterns\n",
    "df[['attributed_time_h','is_attributed']].groupby(['attributed_time_h'], as_index=True).count().plot()\n",
    "plt.title('Attributed clicks');\n",
    "plt.ylabel('Number of Clicks attributed');"
   ]
  },
  {
   "cell_type": "markdown",
   "metadata": {},
   "source": [
    "We can see a clear hourly click patterns following people life habits (less click during night time).\n",
    "However there are not enough attributed clicks to see similar hourly patterns. Attributed clicks seems more randoms."
   ]
  },
  {
   "cell_type": "code",
   "execution_count": null,
   "metadata": {},
   "outputs": [],
   "source": [
    "## What's next\n",
    "\n",
    "## Search for outlier\n",
    "# As the feature are encoded categorical variable we can not use the traditional boxplot to check for outliers.\n",
    "# Instead it might be worth counting the number of click per ip, device and os and see if \n",
    "##any particular ip, device or os has a significantly high number of clicks compare to the average and median.\n",
    "##any particular ip, device or os has a significantly high number of attributed clicks compare to the average and median."
   ]
  },
  {
   "cell_type": "code",
   "execution_count": null,
   "metadata": {},
   "outputs": [],
   "source": [
    "#extract hour as a feature\n",
    "df['click_hour']=df['click_time'].dt.hour"
   ]
  }
 ],
 "metadata": {
  "kernelspec": {
   "display_name": "Python 3",
   "language": "python",
   "name": "python3"
  },
  "language_info": {
   "codemirror_mode": {
    "name": "ipython",
    "version": 3
   },
   "file_extension": ".py",
   "mimetype": "text/x-python",
   "name": "python",
   "nbconvert_exporter": "python",
   "pygments_lexer": "ipython3",
   "version": "3.7.6"
  },
  "toc": {
   "base_numbering": 1,
   "nav_menu": {},
   "number_sections": true,
   "sideBar": true,
   "skip_h1_title": false,
   "title_cell": "Table of Contents",
   "title_sidebar": "Contents",
   "toc_cell": false,
   "toc_position": {},
   "toc_section_display": true,
   "toc_window_display": true
  }
 },
 "nbformat": 4,
 "nbformat_minor": 4
}
