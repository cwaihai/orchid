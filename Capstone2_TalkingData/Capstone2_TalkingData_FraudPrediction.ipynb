{
 "cells": [
  {
   "cell_type": "markdown",
   "metadata": {},
   "source": [
    "This capstone projet is using data from the Kaggle competition:\n",
    "https://www.kaggle.com/c/talkingdata-adtracking-fraud-detection/\n",
    "\n",
    "For simplicity we will start with only using train_sample.csv. Only later to address the class imbalance, we will consider additional data from train.csv."
   ]
  },
  {
   "cell_type": "markdown",
   "metadata": {},
   "source": [
    "# Data Wrangling"
   ]
  },
  {
   "cell_type": "markdown",
   "metadata": {},
   "source": [
    "## Data Organization "
   ]
  },
  {
   "cell_type": "code",
   "execution_count": 185,
   "metadata": {},
   "outputs": [],
   "source": [
    "# import packages\n",
    "import os\n",
    "import numpy as np\n",
    "import pandas as pd\n",
    "from zipfile import ZipFile\n",
    "import datetime\n",
    "import seaborn as sns\n",
    "import matplotlib.pyplot as plt"
   ]
  },
  {
   "cell_type": "code",
   "execution_count": 186,
   "metadata": {},
   "outputs": [],
   "source": [
    "# Set-up path\n",
    "path=\"/Users/carolewaihai/Documents/springboard/orchid/Capstone2_TalkingData\"\n",
    "os.chdir(path)\n",
    "\n",
    "# Create folders to keep the data organized"
   ]
  },
  {
   "cell_type": "code",
   "execution_count": 187,
   "metadata": {},
   "outputs": [
    {
     "name": "stdout",
     "output_type": "stream",
     "text": [
      "mkdir: datarawzip: File exists\r\n"
     ]
    }
   ],
   "source": [
    "mkdir data\\raw\\zip"
   ]
  },
  {
   "cell_type": "code",
   "execution_count": 188,
   "metadata": {},
   "outputs": [
    {
     "name": "stdout",
     "output_type": "stream",
     "text": [
      "mkdir: datainterim: File exists\r\n"
     ]
    }
   ],
   "source": [
    "mkdir data\\interim"
   ]
  },
  {
   "cell_type": "markdown",
   "metadata": {},
   "source": [
    "## Data Collection: TalkingData Ad Tracking Fraud (Kaggle)"
   ]
  },
  {
   "cell_type": "code",
   "execution_count": 189,
   "metadata": {},
   "outputs": [],
   "source": [
    "## Run this only once!\n",
    "\n",
    "# talkingdata-adtracking-fraud-detection.zip was downloaded from kaggle and store in data/raw/zip\n",
    "# Unzip files to into data/raw\n",
    "\n",
    "#zipfile = ZipFile(\"data/raw/zip/talkingdata-adtracking-fraud-detection.zip\", mode='r')\n",
    "#zipfile.extractall('data/raw/')"
   ]
  },
  {
   "cell_type": "code",
   "execution_count": 190,
   "metadata": {},
   "outputs": [
    {
     "name": "stdout",
     "output_type": "stream",
     "text": [
      "       ip  app  device  os  channel           click_time attributed_time  \\\n",
      "0   87540   12       1  13      497  2017-11-07 09:30:38             NaN   \n",
      "1  105560   25       1  17      259  2017-11-07 13:40:27             NaN   \n",
      "2  101424   12       1  19      212  2017-11-07 18:05:24             NaN   \n",
      "3   94584   13       1  13      477  2017-11-07 04:58:08             NaN   \n",
      "4   68413   12       1   1      178  2017-11-09 09:00:09             NaN   \n",
      "\n",
      "   is_attributed  \n",
      "0              0  \n",
      "1              0  \n",
      "2              0  \n",
      "3              0  \n",
      "4              0  \n"
     ]
    }
   ],
   "source": [
    "# Open train_sample.csv into a dataframe\n",
    "df = pd.read_csv('data/raw/train_sample.csv')\n",
    "print(df.head())"
   ]
  },
  {
   "cell_type": "code",
   "execution_count": 191,
   "metadata": {},
   "outputs": [
    {
     "name": "stdout",
     "output_type": "stream",
     "text": [
      "<class 'pandas.core.frame.DataFrame'>\n",
      "RangeIndex: 100000 entries, 0 to 99999\n",
      "Data columns (total 8 columns):\n",
      " #   Column           Non-Null Count   Dtype \n",
      "---  ------           --------------   ----- \n",
      " 0   ip               100000 non-null  int64 \n",
      " 1   app              100000 non-null  int64 \n",
      " 2   device           100000 non-null  int64 \n",
      " 3   os               100000 non-null  int64 \n",
      " 4   channel          100000 non-null  int64 \n",
      " 5   click_time       100000 non-null  object\n",
      " 6   attributed_time  227 non-null     object\n",
      " 7   is_attributed    100000 non-null  int64 \n",
      "dtypes: int64(6), object(2)\n",
      "memory usage: 6.1+ MB\n"
     ]
    }
   ],
   "source": [
    "# Check general information about df\n",
    "df.info()"
   ]
  },
  {
   "cell_type": "code",
   "execution_count": 192,
   "metadata": {},
   "outputs": [
    {
     "data": {
      "text/html": [
       "<div>\n",
       "<style scoped>\n",
       "    .dataframe tbody tr th:only-of-type {\n",
       "        vertical-align: middle;\n",
       "    }\n",
       "\n",
       "    .dataframe tbody tr th {\n",
       "        vertical-align: top;\n",
       "    }\n",
       "\n",
       "    .dataframe thead th {\n",
       "        text-align: right;\n",
       "    }\n",
       "</style>\n",
       "<table border=\"1\" class=\"dataframe\">\n",
       "  <thead>\n",
       "    <tr style=\"text-align: right;\">\n",
       "      <th></th>\n",
       "      <th>ip</th>\n",
       "      <th>app</th>\n",
       "      <th>device</th>\n",
       "      <th>os</th>\n",
       "      <th>channel</th>\n",
       "      <th>is_attributed</th>\n",
       "    </tr>\n",
       "  </thead>\n",
       "  <tbody>\n",
       "    <tr>\n",
       "      <th>count</th>\n",
       "      <td>100000.000000</td>\n",
       "      <td>100000.00000</td>\n",
       "      <td>100000.000000</td>\n",
       "      <td>100000.000000</td>\n",
       "      <td>100000.000000</td>\n",
       "      <td>100000.000000</td>\n",
       "    </tr>\n",
       "    <tr>\n",
       "      <th>mean</th>\n",
       "      <td>91255.879670</td>\n",
       "      <td>12.04788</td>\n",
       "      <td>21.771250</td>\n",
       "      <td>22.818280</td>\n",
       "      <td>268.832460</td>\n",
       "      <td>0.002270</td>\n",
       "    </tr>\n",
       "    <tr>\n",
       "      <th>std</th>\n",
       "      <td>69835.553661</td>\n",
       "      <td>14.94150</td>\n",
       "      <td>259.667767</td>\n",
       "      <td>55.943136</td>\n",
       "      <td>129.724248</td>\n",
       "      <td>0.047591</td>\n",
       "    </tr>\n",
       "    <tr>\n",
       "      <th>min</th>\n",
       "      <td>9.000000</td>\n",
       "      <td>1.00000</td>\n",
       "      <td>0.000000</td>\n",
       "      <td>0.000000</td>\n",
       "      <td>3.000000</td>\n",
       "      <td>0.000000</td>\n",
       "    </tr>\n",
       "    <tr>\n",
       "      <th>25%</th>\n",
       "      <td>40552.000000</td>\n",
       "      <td>3.00000</td>\n",
       "      <td>1.000000</td>\n",
       "      <td>13.000000</td>\n",
       "      <td>145.000000</td>\n",
       "      <td>0.000000</td>\n",
       "    </tr>\n",
       "    <tr>\n",
       "      <th>50%</th>\n",
       "      <td>79827.000000</td>\n",
       "      <td>12.00000</td>\n",
       "      <td>1.000000</td>\n",
       "      <td>18.000000</td>\n",
       "      <td>258.000000</td>\n",
       "      <td>0.000000</td>\n",
       "    </tr>\n",
       "    <tr>\n",
       "      <th>75%</th>\n",
       "      <td>118252.000000</td>\n",
       "      <td>15.00000</td>\n",
       "      <td>1.000000</td>\n",
       "      <td>19.000000</td>\n",
       "      <td>379.000000</td>\n",
       "      <td>0.000000</td>\n",
       "    </tr>\n",
       "    <tr>\n",
       "      <th>max</th>\n",
       "      <td>364757.000000</td>\n",
       "      <td>551.00000</td>\n",
       "      <td>3867.000000</td>\n",
       "      <td>866.000000</td>\n",
       "      <td>498.000000</td>\n",
       "      <td>1.000000</td>\n",
       "    </tr>\n",
       "  </tbody>\n",
       "</table>\n",
       "</div>"
      ],
      "text/plain": [
       "                  ip           app         device             os  \\\n",
       "count  100000.000000  100000.00000  100000.000000  100000.000000   \n",
       "mean    91255.879670      12.04788      21.771250      22.818280   \n",
       "std     69835.553661      14.94150     259.667767      55.943136   \n",
       "min         9.000000       1.00000       0.000000       0.000000   \n",
       "25%     40552.000000       3.00000       1.000000      13.000000   \n",
       "50%     79827.000000      12.00000       1.000000      18.000000   \n",
       "75%    118252.000000      15.00000       1.000000      19.000000   \n",
       "max    364757.000000     551.00000    3867.000000     866.000000   \n",
       "\n",
       "             channel  is_attributed  \n",
       "count  100000.000000  100000.000000  \n",
       "mean      268.832460       0.002270  \n",
       "std       129.724248       0.047591  \n",
       "min         3.000000       0.000000  \n",
       "25%       145.000000       0.000000  \n",
       "50%       258.000000       0.000000  \n",
       "75%       379.000000       0.000000  \n",
       "max       498.000000       1.000000  "
      ]
     },
     "execution_count": 192,
     "metadata": {},
     "output_type": "execute_result"
    }
   ],
   "source": [
    "# Explore df\n",
    "df.describe()"
   ]
  },
  {
   "cell_type": "markdown",
   "metadata": {},
   "source": [
    "**Observation on the data**\n",
    "* The data is tidy (1 column = 1 variable, 1 row = 1 observation).\n",
    "* The column 'attributed_time' is the only column with empty values.\n",
    "* The only thing to fix is to change the type 'object' from columns 'click_time' and 'attributed_time' into datetime type."
   ]
  },
  {
   "cell_type": "markdown",
   "metadata": {},
   "source": [
    "## Data Definition "
   ]
  },
  {
   "cell_type": "code",
   "execution_count": 193,
   "metadata": {},
   "outputs": [
    {
     "data": {
      "text/plain": [
       "Index(['ip', 'app', 'device', 'os', 'channel', 'click_time', 'attributed_time',\n",
       "       'is_attributed'],\n",
       "      dtype='object')"
      ]
     },
     "execution_count": 193,
     "metadata": {},
     "output_type": "execute_result"
    }
   ],
   "source": [
    "#review the columns\n",
    "df.columns"
   ]
  },
  {
   "cell_type": "code",
   "execution_count": 194,
   "metadata": {},
   "outputs": [
    {
     "name": "stdout",
     "output_type": "stream",
     "text": [
      "Columns definitions\n",
      "\n",
      "ip: ip address of click.\n",
      "app: app id for marketing.\n",
      "device: device type id of user mobile phone (e.g., iphone 6 plus, iphone 7, huawei mate 7, etc.)\n",
      "os: os version id of user mobile phone\n",
      "channel: channel id of mobile ad publisher\n",
      "click_time: timestamp of click (UTC)\n",
      "attributed_time: if user download the app for after clicking an ad, this is the time of the app download\n",
      "is_attributed: the target that is to be predicted, indicating the app was downloaded\n",
      "\n",
      "Note that ip, app, device, os, and channel are encoded.\n",
      "\n"
     ]
    }
   ],
   "source": [
    "# Open the columns description text file.\n",
    "f = open(\"columns_definition.txt\", \"r\") \n",
    "print(f.read())"
   ]
  },
  {
   "cell_type": "markdown",
   "metadata": {},
   "source": [
    "## Data Cleaning "
   ]
  },
  {
   "cell_type": "markdown",
   "metadata": {},
   "source": [
    "### Data types "
   ]
  },
  {
   "cell_type": "code",
   "execution_count": 195,
   "metadata": {},
   "outputs": [],
   "source": [
    "# Changing data type of click_time and attributed_time\n",
    "df.click_time = pd.to_datetime(df.click_time)\n",
    "df.attributed_time = pd.to_datetime(df.attributed_time)"
   ]
  },
  {
   "cell_type": "markdown",
   "metadata": {},
   "source": [
    "### Null values "
   ]
  },
  {
   "cell_type": "markdown",
   "metadata": {},
   "source": [
    "Only attributed_time has null value when the click has not been attributed to any installs. We decide to leave the null value as is. Our target variable is is_attributed, and only attributed click get an 'attributed_time'. In our current problem of predicting if a click will be attributed or not, the column 'attributed_time' is useless and can be dropped."
   ]
  },
  {
   "cell_type": "code",
   "execution_count": 196,
   "metadata": {},
   "outputs": [],
   "source": [
    "# Drop column 'attributed_time'\n",
    "df.drop(columns=['attributed_time'], inplace=True)"
   ]
  },
  {
   "cell_type": "markdown",
   "metadata": {},
   "source": [
    "### Duplicated values "
   ]
  },
  {
   "cell_type": "code",
   "execution_count": 197,
   "metadata": {},
   "outputs": [
    {
     "data": {
      "text/html": [
       "<div>\n",
       "<style scoped>\n",
       "    .dataframe tbody tr th:only-of-type {\n",
       "        vertical-align: middle;\n",
       "    }\n",
       "\n",
       "    .dataframe tbody tr th {\n",
       "        vertical-align: top;\n",
       "    }\n",
       "\n",
       "    .dataframe thead th {\n",
       "        text-align: right;\n",
       "    }\n",
       "</style>\n",
       "<table border=\"1\" class=\"dataframe\">\n",
       "  <thead>\n",
       "    <tr style=\"text-align: right;\">\n",
       "      <th></th>\n",
       "      <th>ip</th>\n",
       "      <th>app</th>\n",
       "      <th>device</th>\n",
       "      <th>os</th>\n",
       "      <th>channel</th>\n",
       "      <th>click_time</th>\n",
       "      <th>is_attributed</th>\n",
       "    </tr>\n",
       "  </thead>\n",
       "  <tbody>\n",
       "    <tr>\n",
       "      <th>84125</th>\n",
       "      <td>871</td>\n",
       "      <td>12</td>\n",
       "      <td>1</td>\n",
       "      <td>13</td>\n",
       "      <td>178</td>\n",
       "      <td>2017-11-08 10:00:05</td>\n",
       "      <td>0</td>\n",
       "    </tr>\n",
       "  </tbody>\n",
       "</table>\n",
       "</div>"
      ],
      "text/plain": [
       "        ip  app  device  os  channel          click_time  is_attributed\n",
       "84125  871   12       1  13      178 2017-11-08 10:00:05              0"
      ]
     },
     "execution_count": 197,
     "metadata": {},
     "output_type": "execute_result"
    }
   ],
   "source": [
    "# Search for duplicated rows\n",
    "duplicateRowsDF = df[df.duplicated()]\n",
    "duplicateRowsDF"
   ]
  },
  {
   "cell_type": "code",
   "execution_count": 198,
   "metadata": {},
   "outputs": [],
   "source": [
    "df = df.drop_duplicates()"
   ]
  },
  {
   "cell_type": "markdown",
   "metadata": {},
   "source": [
    "### Quick check for anomalies"
   ]
  },
  {
   "cell_type": "code",
   "execution_count": 199,
   "metadata": {},
   "outputs": [
    {
     "data": {
      "text/html": [
       "<div>\n",
       "<style scoped>\n",
       "    .dataframe tbody tr th:only-of-type {\n",
       "        vertical-align: middle;\n",
       "    }\n",
       "\n",
       "    .dataframe tbody tr th {\n",
       "        vertical-align: top;\n",
       "    }\n",
       "\n",
       "    .dataframe thead th {\n",
       "        text-align: right;\n",
       "    }\n",
       "</style>\n",
       "<table border=\"1\" class=\"dataframe\">\n",
       "  <thead>\n",
       "    <tr style=\"text-align: right;\">\n",
       "      <th></th>\n",
       "      <th>min</th>\n",
       "      <th>max</th>\n",
       "    </tr>\n",
       "  </thead>\n",
       "  <tbody>\n",
       "    <tr>\n",
       "      <th>ip</th>\n",
       "      <td>9</td>\n",
       "      <td>364757</td>\n",
       "    </tr>\n",
       "    <tr>\n",
       "      <th>app</th>\n",
       "      <td>1</td>\n",
       "      <td>551</td>\n",
       "    </tr>\n",
       "    <tr>\n",
       "      <th>device</th>\n",
       "      <td>0</td>\n",
       "      <td>3867</td>\n",
       "    </tr>\n",
       "    <tr>\n",
       "      <th>os</th>\n",
       "      <td>0</td>\n",
       "      <td>866</td>\n",
       "    </tr>\n",
       "    <tr>\n",
       "      <th>channel</th>\n",
       "      <td>3</td>\n",
       "      <td>498</td>\n",
       "    </tr>\n",
       "    <tr>\n",
       "      <th>click_time</th>\n",
       "      <td>2017-11-06 16:00:00</td>\n",
       "      <td>2017-11-09 15:59:51</td>\n",
       "    </tr>\n",
       "    <tr>\n",
       "      <th>is_attributed</th>\n",
       "      <td>0</td>\n",
       "      <td>1</td>\n",
       "    </tr>\n",
       "  </tbody>\n",
       "</table>\n",
       "</div>"
      ],
      "text/plain": [
       "                               min                  max\n",
       "ip                               9               364757\n",
       "app                              1                  551\n",
       "device                           0                 3867\n",
       "os                               0                  866\n",
       "channel                          3                  498\n",
       "click_time     2017-11-06 16:00:00  2017-11-09 15:59:51\n",
       "is_attributed                    0                    1"
      ]
     },
     "execution_count": 199,
     "metadata": {},
     "output_type": "execute_result"
    }
   ],
   "source": [
    "# Exploration of min max values\n",
    "df.agg([min,max]).T"
   ]
  },
  {
   "cell_type": "code",
   "execution_count": 200,
   "metadata": {},
   "outputs": [
    {
     "name": "stdout",
     "output_type": "stream",
     "text": [
      "<class 'pandas.core.frame.DataFrame'>\n",
      "Int64Index: 99999 entries, 0 to 99999\n",
      "Data columns (total 7 columns):\n",
      " #   Column         Non-Null Count  Dtype         \n",
      "---  ------         --------------  -----         \n",
      " 0   ip             99999 non-null  int64         \n",
      " 1   app            99999 non-null  int64         \n",
      " 2   device         99999 non-null  int64         \n",
      " 3   os             99999 non-null  int64         \n",
      " 4   channel        99999 non-null  int64         \n",
      " 5   click_time     99999 non-null  datetime64[ns]\n",
      " 6   is_attributed  99999 non-null  int64         \n",
      "dtypes: datetime64[ns](1), int64(6)\n",
      "memory usage: 6.1 MB\n"
     ]
    }
   ],
   "source": [
    "# Check df again after clean up and save the data in folder data/interim\n",
    "df.info()\n",
    "df.to_csv('data/interim/talkingdata_clicks.csv', index=False)"
   ]
  },
  {
   "cell_type": "markdown",
   "metadata": {},
   "source": [
    "# Exploratory Data Analysis (EDA) "
   ]
  },
  {
   "cell_type": "markdown",
   "metadata": {},
   "source": [
    "## Investigating each column "
   ]
  },
  {
   "cell_type": "code",
   "execution_count": 201,
   "metadata": {},
   "outputs": [
    {
     "data": {
      "text/plain": [
       "ip               34857\n",
       "app                161\n",
       "device             100\n",
       "os                 130\n",
       "channel            161\n",
       "click_time       80350\n",
       "is_attributed        2\n",
       "dtype: int64"
      ]
     },
     "execution_count": 201,
     "metadata": {},
     "output_type": "execute_result"
    }
   ],
   "source": [
    "# Check the cardinality of each variable (how many uniques values)\n",
    "df.apply(pd.Series.nunique)"
   ]
  },
  {
   "cell_type": "markdown",
   "metadata": {},
   "source": [
    "**Observations**\n",
    "* click_time has the highest cardinality, it makes sense has it is time related (clicks rarely happened at the same time).\n",
    "* ip address is the other only variable with high cardinality.\n",
    "* app and channel have the same number of unique value, we need to check if it is a coincidence or 1 app = 1 channel.\n",
    "* we could consider reducing the number of values of ip, app, device, os, channel"
   ]
  },
  {
   "cell_type": "code",
   "execution_count": 202,
   "metadata": {},
   "outputs": [
    {
     "data": {
      "text/plain": [
       "array([[<matplotlib.axes._subplots.AxesSubplot object at 0x1a2c6df890>,\n",
       "        <matplotlib.axes._subplots.AxesSubplot object at 0x1a2c6ad490>],\n",
       "       [<matplotlib.axes._subplots.AxesSubplot object at 0x1a26410c10>,\n",
       "        <matplotlib.axes._subplots.AxesSubplot object at 0x1a22c49e90>],\n",
       "       [<matplotlib.axes._subplots.AxesSubplot object at 0x1a19740190>,\n",
       "        <matplotlib.axes._subplots.AxesSubplot object at 0x1a180c3310>]],\n",
       "      dtype=object)"
      ]
     },
     "execution_count": 202,
     "metadata": {},
     "output_type": "execute_result"
    },
    {
     "data": {
      "image/png": "[encoded data removed]",
      "text/plain": [
       "<Figure size 1080x1080 with 6 Axes>"
      ]
     },
     "metadata": {
      "needs_background": "light"
     },
     "output_type": "display_data"
    }
   ],
   "source": [
    "# Use histogram to build data profiles\n",
    "df[['ip','app','device','os','channel']].hist(bins=100, figsize=(15, 15), layout=(3, 2), sharey=False)"
   ]
  },
  {
   "cell_type": "markdown",
   "metadata": {},
   "source": [
    "**Observations**\n",
    "* app and channel are not distributed similarly, so the 161 uniques values are a coincidence.\n",
    "* When encoding the categorical value into number, lower numbers are usually choose for the more frequent values."
   ]
  },
  {
   "cell_type": "markdown",
   "metadata": {},
   "source": [
    "### ip"
   ]
  },
  {
   "cell_type": "code",
   "execution_count": 203,
   "metadata": {},
   "outputs": [
    {
     "name": "stdout",
     "output_type": "stream",
     "text": [
      "5348      0.00669\n",
      "5314      0.00616\n",
      "73487     0.00439\n",
      "73516     0.00399\n",
      "53454     0.00280\n",
      "114276    0.00219\n",
      "26995     0.00218\n",
      "95766     0.00205\n",
      "17149     0.00186\n",
      "100275    0.00173\n",
      "999999    0.96596\n",
      "Name: ip, dtype: float64\n"
     ]
    }
   ],
   "source": [
    "# Investigating top 10 most frequent ip\n",
    "ip_cnt = df.ip.value_counts()\n",
    "ip_pct = df.ip.value_counts()/len(df.ip)\n",
    "ip_list = ip_pct.head(10)\n",
    "if len(ip_pct) > 10:\n",
    "    ip_list['999999'.format(len(ip_pct) - 10)] = sum(ip_pct[10:])\n",
    "    \n",
    "print(ip_list)"
   ]
  },
  {
   "cell_type": "code",
   "execution_count": 204,
   "metadata": {},
   "outputs": [
    {
     "data": {
      "image/png": "[encoded data removed]",
      "text/plain": [
       "<Figure size 432x288 with 1 Axes>"
      ]
     },
     "metadata": {},
     "output_type": "display_data"
    }
   ],
   "source": [
    "fig, ax = plt.subplots()\n",
    "pieLabels = ip_list.index\n",
    " \n",
    "# Draw the pie chart\n",
    "ax.pie(ip_list.values,\n",
    "        labels=pieLabels,\n",
    "        startangle=90)\n",
    "\n",
    " \n",
    "# Aspect ratio - equal means pie is a circle\n",
    "ax.axis('equal')\n",
    "\n",
    "plt.show()"
   ]
  },
  {
   "cell_type": "code",
   "execution_count": 205,
   "metadata": {},
   "outputs": [
    {
     "name": "stdout",
     "output_type": "stream",
     "text": [
      "There are 17423 ip address that appears only once, they represent 49.98422124680839 % of all ip addresses\n"
     ]
    }
   ],
   "source": [
    "#How many (and what pourcentage) of ip address appear only once?\n",
    "print(\"There are\",sum(ip_cnt.values==1),\n",
    "      \"ip address that appears only once, they represent\",\n",
    "      sum(ip_cnt.values==1)/len(ip_cnt)*100,\"% of all ip addresses\") "
   ]
  },
  {
   "cell_type": "markdown",
   "metadata": {},
   "source": [
    "**Observation**\n",
    "* The top 10 ip addresses only account 3.5% of all the clicks.\n",
    "* 50% of all ip addresses only have 1 clicks. Such ip addresses wont be useful to predict if a click will turned into an install."
   ]
  },
  {
   "cell_type": "markdown",
   "metadata": {},
   "source": [
    "### device"
   ]
  },
  {
   "cell_type": "code",
   "execution_count": 206,
   "metadata": {},
   "outputs": [
    {
     "name": "stdout",
     "output_type": "stream",
     "text": [
      "1         0.943379\n",
      "2         0.043450\n",
      "0         0.005410\n",
      "3032      0.003710\n",
      "3543      0.001510\n",
      "3866      0.000930\n",
      "59        0.000120\n",
      "6         0.000080\n",
      "16        0.000070\n",
      "5         0.000070\n",
      "999999    0.001270\n",
      "Name: device, dtype: float64\n"
     ]
    }
   ],
   "source": [
    "# Investigating top 10 most frequent devices\n",
    "device_cnt = df.device.value_counts()\n",
    "device_pct = df.device.value_counts()/len(df.device)\n",
    "device_list = device_pct.head(10)\n",
    "if len(device_pct) > 10:\n",
    "    device_list['999999'.format(len(device_pct) - 10)] = sum(device_pct[10:])\n",
    "    \n",
    "print(device_list)"
   ]
  },
  {
   "cell_type": "code",
   "execution_count": 207,
   "metadata": {},
   "outputs": [
    {
     "data": {
      "image/png": "[encoded data removed]",
      "text/plain": [
       "<Figure size 432x288 with 1 Axes>"
      ]
     },
     "metadata": {},
     "output_type": "display_data"
    }
   ],
   "source": [
    "fig, ax = plt.subplots()\n",
    "pieLabels = device_list.index\n",
    " \n",
    "# Draw the pie chart\n",
    "ax.pie(device_list.values,\n",
    "        labels=pieLabels,\n",
    "        startangle=90)\n",
    "\n",
    " \n",
    "# Aspect ratio - equal means pie is a circle\n",
    "ax.axis('equal')\n",
    "plt.show()"
   ]
  },
  {
   "cell_type": "markdown",
   "metadata": {},
   "source": [
    "**Observation**\n",
    "* 98% of all the click comes from 2 devices.\n",
    "* Other devices might not be important in predicting an installs."
   ]
  },
  {
   "cell_type": "markdown",
   "metadata": {},
   "source": [
    "### os"
   ]
  },
  {
   "cell_type": "code",
   "execution_count": 208,
   "metadata": {},
   "outputs": [
    {
     "name": "stdout",
     "output_type": "stream",
     "text": [
      "19        0.238702\n",
      "13        0.212222\n",
      "17        0.052321\n",
      "18        0.048300\n",
      "22        0.040390\n",
      "10        0.028160\n",
      "8         0.027750\n",
      "6         0.025200\n",
      "15        0.023960\n",
      "20        0.023470\n",
      "999999    0.279523\n",
      "Name: os, dtype: float64\n"
     ]
    }
   ],
   "source": [
    "# Investigating top 10 most frequent os\n",
    "os_cnt = df.os.value_counts()\n",
    "os_pct = df.os.value_counts()/len(df.os)\n",
    "os_list = os_pct.head(10)\n",
    "if len(os_pct) > 10:\n",
    "   os_list['999999'.format(len(os_pct) - 10)] = sum(os_pct[10:])\n",
    "    \n",
    "print(os_list)"
   ]
  },
  {
   "cell_type": "code",
   "execution_count": 209,
   "metadata": {},
   "outputs": [
    {
     "data": {
      "image/png": "[encoded data removed]",
      "text/plain": [
       "<Figure size 432x288 with 1 Axes>"
      ]
     },
     "metadata": {},
     "output_type": "display_data"
    }
   ],
   "source": [
    "fig, ax = plt.subplots()\n",
    "pieLabels = os_list.index\n",
    " \n",
    "# Draw the pie chart\n",
    "ax.pie(os_list.values,\n",
    "        labels=pieLabels,\n",
    "        autopct='%1.2f',\n",
    "        startangle=90)\n",
    "\n",
    " \n",
    "# Aspect ratio - equal means pie is a circle\n",
    "ax.axis('equal')\n",
    "plt.show()"
   ]
  },
  {
   "cell_type": "markdown",
   "metadata": {},
   "source": [
    "**Observation**\n",
    "* The top 2 OS account for 45% of all the clicks.\n",
    "* The top 10 OS account for 72% of all the clicks."
   ]
  },
  {
   "cell_type": "markdown",
   "metadata": {},
   "source": [
    "### app & channel"
   ]
  },
  {
   "cell_type": "code",
   "execution_count": 210,
   "metadata": {},
   "outputs": [
    {
     "name": "stdout",
     "output_type": "stream",
     "text": [
      "3         0.182792\n",
      "12        0.131971\n",
      "2         0.117371\n",
      "9         0.089921\n",
      "15        0.085951\n",
      "18        0.083151\n",
      "14        0.053591\n",
      "1         0.031350\n",
      "13        0.024220\n",
      "8         0.020040\n",
      "999999    0.179642\n",
      "Name: app, dtype: float64\n"
     ]
    },
    {
     "data": {
      "image/png": "[encoded data removed]",
      "text/plain": [
       "<Figure size 432x288 with 1 Axes>"
      ]
     },
     "metadata": {},
     "output_type": "display_data"
    },
    {
     "name": "stdout",
     "output_type": "stream",
     "text": [
      "280       0.081141\n",
      "245       0.048020\n",
      "107       0.045430\n",
      "477       0.039600\n",
      "134       0.032240\n",
      "259       0.031300\n",
      "265       0.030130\n",
      "153       0.029540\n",
      "178       0.029350\n",
      "121       0.024720\n",
      "999999    0.608526\n",
      "Name: channel, dtype: float64\n"
     ]
    },
    {
     "data": {
      "image/png": "[encoded data removed]",
      "text/plain": [
       "<Figure size 432x288 with 1 Axes>"
      ]
     },
     "metadata": {},
     "output_type": "display_data"
    }
   ],
   "source": [
    "for i in ['app','channel']:\n",
    "    # Investigating top 10 most frequent devices\n",
    "    i_cnt = df[i].value_counts()\n",
    "    i_pct = df[i].value_counts()/len(df.os)\n",
    "    i_list = i_pct.head(10)\n",
    "    if len(i_pct) > 10:\n",
    "       i_list['999999'.format(len(i_pct) - 10)] = sum(i_pct[10:])\n",
    "    \n",
    "    print(i_list)\n",
    "    fig, ax = plt.subplots()\n",
    "    pieLabels = i_list.index\n",
    " \n",
    "    # Draw the pie chart\n",
    "    ax.pie(i_list.values,\n",
    "        labels=pieLabels,\n",
    "        autopct='%1.2f',\n",
    "        startangle=90)\n",
    "\n",
    " \n",
    "    # Aspect ratio - equal means pie is a circle\n",
    "    ax.axis('equal')\n",
    "    plt.show()"
   ]
  },
  {
   "cell_type": "markdown",
   "metadata": {},
   "source": [
    "**Observation**\n",
    "* The top 10 apps represent 82% of all clicks.\n",
    "* The top 10 channels represent only 40% of all clicks."
   ]
  },
  {
   "cell_type": "markdown",
   "metadata": {},
   "source": [
    "### click_time"
   ]
  },
  {
   "cell_type": "markdown",
   "metadata": {},
   "source": [
    "All clicks happen within 3 days, between Nov 6 to 9, 2017, 16:00. The timezone is unknown."
   ]
  },
  {
   "cell_type": "code",
   "execution_count": 211,
   "metadata": {},
   "outputs": [
    {
     "data": {
      "text/plain": [
       "Text(0, 0.5, 'Number of Clicks')"
      ]
     },
     "execution_count": 211,
     "metadata": {},
     "output_type": "execute_result"
    },
    {
     "data": {
      "image/png": "[encoded data removed]",
      "text/plain": [
       "<Figure size 432x288 with 1 Axes>"
      ]
     },
     "metadata": {
      "needs_background": "light"
     },
     "output_type": "display_data"
    }
   ],
   "source": [
    "#round the time to nearest hour\n",
    "click_time_h = df['click_time'].dt.round('H')  \n",
    "\n",
    "#check for hourly patterns\n",
    "df.groupby(click_time_h, as_index=True).count().plot()\n",
    "plt.ylabel('Number of Clicks')"
   ]
  },
  {
   "cell_type": "markdown",
   "metadata": {},
   "source": [
    "**Observation**\n",
    "* We can see a clear hourly click patterns following people life habits (less click during night time).\n",
    "However there are not enough attributed clicks to see similar hourly patterns. Attributed clicks seems more randoms."
   ]
  },
  {
   "cell_type": "markdown",
   "metadata": {},
   "source": [
    "### is_attributed (target variable)"
   ]
  },
  {
   "cell_type": "code",
   "execution_count": 212,
   "metadata": {},
   "outputs": [
    {
     "data": {
      "text/plain": [
       "0    99772\n",
       "1      227\n",
       "Name: is_attributed, dtype: int64"
      ]
     },
     "execution_count": 212,
     "metadata": {},
     "output_type": "execute_result"
    }
   ],
   "source": [
    "df.is_attributed.value_counts()"
   ]
  },
  {
   "cell_type": "code",
   "execution_count": 213,
   "metadata": {},
   "outputs": [
    {
     "data": {
      "image/png": "[encoded data removed]",
      "text/plain": [
       "<Figure size 432x432 with 1 Axes>"
      ]
     },
     "metadata": {
      "needs_background": "light"
     },
     "output_type": "display_data"
    }
   ],
   "source": [
    "#Let's explore the is_attributed column\n",
    "plt.figure(figsize=(6,6))\n",
    "mean = (df.is_attributed.values == 1).mean() #get the pourcentage of clicks attributed\n",
    "\n",
    "ax = sns.barplot(['App Downloaded (1)', 'Not Downloaded (0)'], [mean, 1-mean])\n",
    "ax.set(ylabel='Proportion', title='App Downloaded vs Not Downloaded')\n",
    "for p, uniq in zip(ax.patches, [mean, 1-mean]):\n",
    "    height = p.get_height()\n",
    "    ax.text(p.get_x()+p.get_width()/2.,\n",
    "            height+0.01,\n",
    "            '{}%'.format(round(uniq * 100, 2)),\n",
    "            ha=\"center\")"
   ]
  },
  {
   "cell_type": "markdown",
   "metadata": {},
   "source": [
    "**Observation**\n",
    "* The dataset show an important inbalance in the number of click attributed (227) vs non-attributed (99,772)."
   ]
  },
  {
   "cell_type": "markdown",
   "metadata": {},
   "source": [
    "## Fixing the class imbalance "
   ]
  },
  {
   "cell_type": "markdown",
   "metadata": {},
   "source": [
    "### 1st batch of additional attributed clicks"
   ]
  },
  {
   "cell_type": "code",
   "execution_count": 169,
   "metadata": {},
   "outputs": [
    {
     "data": {
      "text/plain": [
       "18717"
      ]
     },
     "execution_count": 169,
     "metadata": {},
     "output_type": "execute_result"
    }
   ],
   "source": [
    "# Faster way to load the data by batch\n",
    "# Open a connection to the file\n",
    "\n",
    "added_clicks = []\n",
    "\n",
    "\n",
    "with open('data/raw/train.csv', encoding='utf-8-sig') as file:\n",
    "\n",
    "    # Process only the first 10 rows\n",
    "    for j in range(0,10000000):\n",
    "\n",
    "        \n",
    "        # Split the current line into a list: line\n",
    "        line = file.readline().split(',')\n",
    "        if line.count('1\\n')==1:\n",
    "            added_clicks.append(line)\n",
    "\n",
    "len(added_clicks)"
   ]
  },
  {
   "cell_type": "code",
   "execution_count": 176,
   "metadata": {},
   "outputs": [
    {
     "data": {
      "text/html": [
       "<div>\n",
       "<style scoped>\n",
       "    .dataframe tbody tr th:only-of-type {\n",
       "        vertical-align: middle;\n",
       "    }\n",
       "\n",
       "    .dataframe tbody tr th {\n",
       "        vertical-align: top;\n",
       "    }\n",
       "\n",
       "    .dataframe thead th {\n",
       "        text-align: right;\n",
       "    }\n",
       "</style>\n",
       "<table border=\"1\" class=\"dataframe\">\n",
       "  <thead>\n",
       "    <tr style=\"text-align: right;\">\n",
       "      <th></th>\n",
       "      <th>0</th>\n",
       "      <th>1</th>\n",
       "      <th>2</th>\n",
       "      <th>3</th>\n",
       "      <th>4</th>\n",
       "      <th>5</th>\n",
       "      <th>6</th>\n",
       "      <th>7</th>\n",
       "    </tr>\n",
       "  </thead>\n",
       "  <tbody>\n",
       "    <tr>\n",
       "      <th>0</th>\n",
       "      <td>204158</td>\n",
       "      <td>35</td>\n",
       "      <td>1</td>\n",
       "      <td>13</td>\n",
       "      <td>21</td>\n",
       "      <td>2017-11-06 15:41:07</td>\n",
       "      <td>2017-11-07 08:17:19</td>\n",
       "      <td>1\\n</td>\n",
       "    </tr>\n",
       "    <tr>\n",
       "      <th>1</th>\n",
       "      <td>29692</td>\n",
       "      <td>9</td>\n",
       "      <td>1</td>\n",
       "      <td>22</td>\n",
       "      <td>215</td>\n",
       "      <td>2017-11-06 16:00:02</td>\n",
       "      <td>2017-11-07 10:05:22</td>\n",
       "      <td>1\\n</td>\n",
       "    </tr>\n",
       "    <tr>\n",
       "      <th>2</th>\n",
       "      <td>64516</td>\n",
       "      <td>35</td>\n",
       "      <td>1</td>\n",
       "      <td>13</td>\n",
       "      <td>21</td>\n",
       "      <td>2017-11-06 16:00:02</td>\n",
       "      <td>2017-11-06 23:40:50</td>\n",
       "      <td>1\\n</td>\n",
       "    </tr>\n",
       "    <tr>\n",
       "      <th>3</th>\n",
       "      <td>172429</td>\n",
       "      <td>35</td>\n",
       "      <td>1</td>\n",
       "      <td>46</td>\n",
       "      <td>274</td>\n",
       "      <td>2017-11-06 16:00:03</td>\n",
       "      <td>2017-11-07 00:55:29</td>\n",
       "      <td>1\\n</td>\n",
       "    </tr>\n",
       "    <tr>\n",
       "      <th>4</th>\n",
       "      <td>199085</td>\n",
       "      <td>35</td>\n",
       "      <td>1</td>\n",
       "      <td>13</td>\n",
       "      <td>274</td>\n",
       "      <td>2017-11-06 16:00:04</td>\n",
       "      <td>2017-11-06 23:04:54</td>\n",
       "      <td>1\\n</td>\n",
       "    </tr>\n",
       "  </tbody>\n",
       "</table>\n",
       "</div>"
      ],
      "text/plain": [
       "        0   1  2   3    4                    5                    6    7\n",
       "0  204158  35  1  13   21  2017-11-06 15:41:07  2017-11-07 08:17:19  1\\n\n",
       "1   29692   9  1  22  215  2017-11-06 16:00:02  2017-11-07 10:05:22  1\\n\n",
       "2   64516  35  1  13   21  2017-11-06 16:00:02  2017-11-06 23:40:50  1\\n\n",
       "3  172429  35  1  46  274  2017-11-06 16:00:03  2017-11-07 00:55:29  1\\n\n",
       "4  199085  35  1  13  274  2017-11-06 16:00:04  2017-11-06 23:04:54  1\\n"
      ]
     },
     "execution_count": 176,
     "metadata": {},
     "output_type": "execute_result"
    }
   ],
   "source": [
    "# Turn the new data into a dataframe and check it\n",
    "added_clicks_df = pd.DataFrame(added_clicks)\n",
    "added_clicks_df.head()"
   ]
  },
  {
   "cell_type": "code",
   "execution_count": 177,
   "metadata": {},
   "outputs": [],
   "source": [
    "# Fix the columns names\n",
    "column_name = pd.read_csv('data/raw/train_sample.csv').columns\n",
    "added_clicks_df.columns=column_name"
   ]
  },
  {
   "cell_type": "code",
   "execution_count": 178,
   "metadata": {},
   "outputs": [
    {
     "data": {
      "text/html": [
       "<div>\n",
       "<style scoped>\n",
       "    .dataframe tbody tr th:only-of-type {\n",
       "        vertical-align: middle;\n",
       "    }\n",
       "\n",
       "    .dataframe tbody tr th {\n",
       "        vertical-align: top;\n",
       "    }\n",
       "\n",
       "    .dataframe thead th {\n",
       "        text-align: right;\n",
       "    }\n",
       "</style>\n",
       "<table border=\"1\" class=\"dataframe\">\n",
       "  <thead>\n",
       "    <tr style=\"text-align: right;\">\n",
       "      <th></th>\n",
       "      <th>ip</th>\n",
       "      <th>app</th>\n",
       "      <th>device</th>\n",
       "      <th>os</th>\n",
       "      <th>channel</th>\n",
       "      <th>click_time</th>\n",
       "      <th>is_attributed</th>\n",
       "    </tr>\n",
       "  </thead>\n",
       "  <tbody>\n",
       "    <tr>\n",
       "      <th>0</th>\n",
       "      <td>204158</td>\n",
       "      <td>35</td>\n",
       "      <td>1</td>\n",
       "      <td>13</td>\n",
       "      <td>21</td>\n",
       "      <td>2017-11-06 15:41:07</td>\n",
       "      <td>1</td>\n",
       "    </tr>\n",
       "    <tr>\n",
       "      <th>1</th>\n",
       "      <td>29692</td>\n",
       "      <td>9</td>\n",
       "      <td>1</td>\n",
       "      <td>22</td>\n",
       "      <td>215</td>\n",
       "      <td>2017-11-06 16:00:02</td>\n",
       "      <td>1</td>\n",
       "    </tr>\n",
       "    <tr>\n",
       "      <th>2</th>\n",
       "      <td>64516</td>\n",
       "      <td>35</td>\n",
       "      <td>1</td>\n",
       "      <td>13</td>\n",
       "      <td>21</td>\n",
       "      <td>2017-11-06 16:00:02</td>\n",
       "      <td>1</td>\n",
       "    </tr>\n",
       "    <tr>\n",
       "      <th>3</th>\n",
       "      <td>172429</td>\n",
       "      <td>35</td>\n",
       "      <td>1</td>\n",
       "      <td>46</td>\n",
       "      <td>274</td>\n",
       "      <td>2017-11-06 16:00:03</td>\n",
       "      <td>1</td>\n",
       "    </tr>\n",
       "    <tr>\n",
       "      <th>4</th>\n",
       "      <td>199085</td>\n",
       "      <td>35</td>\n",
       "      <td>1</td>\n",
       "      <td>13</td>\n",
       "      <td>274</td>\n",
       "      <td>2017-11-06 16:00:04</td>\n",
       "      <td>1</td>\n",
       "    </tr>\n",
       "  </tbody>\n",
       "</table>\n",
       "</div>"
      ],
      "text/plain": [
       "       ip app device  os channel           click_time  is_attributed\n",
       "0  204158  35      1  13      21  2017-11-06 15:41:07              1\n",
       "1   29692   9      1  22     215  2017-11-06 16:00:02              1\n",
       "2   64516  35      1  13      21  2017-11-06 16:00:02              1\n",
       "3  172429  35      1  46     274  2017-11-06 16:00:03              1\n",
       "4  199085  35      1  13     274  2017-11-06 16:00:04              1"
      ]
     },
     "execution_count": 178,
     "metadata": {},
     "output_type": "execute_result"
    }
   ],
   "source": [
    "# Drop columns attributed_time and fix the value in column is_attributed\n",
    "added_clicks_df.drop(columns=['attributed_time','is_attributed'], inplace=True)\n",
    "added_clicks_df['is_attributed']=1\n",
    "added_clicks_df.head()"
   ]
  },
  {
   "cell_type": "code",
   "execution_count": 179,
   "metadata": {},
   "outputs": [
    {
     "data": {
      "text/html": [
       "<div>\n",
       "<style scoped>\n",
       "    .dataframe tbody tr th:only-of-type {\n",
       "        vertical-align: middle;\n",
       "    }\n",
       "\n",
       "    .dataframe tbody tr th {\n",
       "        vertical-align: top;\n",
       "    }\n",
       "\n",
       "    .dataframe thead th {\n",
       "        text-align: right;\n",
       "    }\n",
       "</style>\n",
       "<table border=\"1\" class=\"dataframe\">\n",
       "  <thead>\n",
       "    <tr style=\"text-align: right;\">\n",
       "      <th></th>\n",
       "      <th>min</th>\n",
       "      <th>max</th>\n",
       "    </tr>\n",
       "  </thead>\n",
       "  <tbody>\n",
       "    <tr>\n",
       "      <th>ip</th>\n",
       "      <td>100009</td>\n",
       "      <td>99986</td>\n",
       "    </tr>\n",
       "    <tr>\n",
       "      <th>app</th>\n",
       "      <td>0</td>\n",
       "      <td>98</td>\n",
       "    </tr>\n",
       "    <tr>\n",
       "      <th>device</th>\n",
       "      <td>0</td>\n",
       "      <td>99</td>\n",
       "    </tr>\n",
       "    <tr>\n",
       "      <th>os</th>\n",
       "      <td>0</td>\n",
       "      <td>96</td>\n",
       "    </tr>\n",
       "    <tr>\n",
       "      <th>channel</th>\n",
       "      <td>0</td>\n",
       "      <td>498</td>\n",
       "    </tr>\n",
       "    <tr>\n",
       "      <th>click_time</th>\n",
       "      <td>2017-11-06 15:41:07</td>\n",
       "      <td>2017-11-07 00:12:03</td>\n",
       "    </tr>\n",
       "    <tr>\n",
       "      <th>is_attributed</th>\n",
       "      <td>1</td>\n",
       "      <td>1</td>\n",
       "    </tr>\n",
       "  </tbody>\n",
       "</table>\n",
       "</div>"
      ],
      "text/plain": [
       "                               min                  max\n",
       "ip                          100009                99986\n",
       "app                              0                   98\n",
       "device                           0                   99\n",
       "os                               0                   96\n",
       "channel                          0                  498\n",
       "click_time     2017-11-06 15:41:07  2017-11-07 00:12:03\n",
       "is_attributed                    1                    1"
      ]
     },
     "execution_count": 179,
     "metadata": {},
     "output_type": "execute_result"
    }
   ],
   "source": [
    "# Check at a high level the value in this additional dataset\n",
    "added_clicks_df.agg([min,max]).T"
   ]
  },
  {
   "cell_type": "code",
   "execution_count": 180,
   "metadata": {},
   "outputs": [
    {
     "data": {
      "text/plain": [
       "ip               16112\n",
       "app                133\n",
       "device             438\n",
       "os                  67\n",
       "channel            138\n",
       "click_time       12676\n",
       "is_attributed        1\n",
       "dtype: int64"
      ]
     },
     "execution_count": 180,
     "metadata": {},
     "output_type": "execute_result"
    }
   ],
   "source": [
    "added_clicks_df.apply(pd.Series.nunique)"
   ]
  },
  {
   "cell_type": "markdown",
   "metadata": {},
   "source": [
    "**Observations**\n",
    "* The 18717 additional attributed cicks we got from the test.csv file only cover a timeframe of 9h. \n",
    "* Ideally we would want these attributed clicks to be distributed between 2017-11-06 and 2017-11-09 like the first dataset.\n",
    "\n",
    "Let get more attributed clicks from train.csv"
   ]
  },
  {
   "cell_type": "markdown",
   "metadata": {},
   "source": [
    "### 2nd batch of additional attributed clicks "
   ]
  },
  {
   "cell_type": "code",
   "execution_count": 124,
   "metadata": {},
   "outputs": [
    {
     "data": {
      "text/plain": [
       "218955"
      ]
     },
     "execution_count": 124,
     "metadata": {},
     "output_type": "execute_result"
    }
   ],
   "source": [
    "# Run this one only once\n",
    "\n",
    "# Get all the attributed clicks from test.csv from line 10,000,000 to the end of the file\n",
    "added_clicks2 = []\n",
    "\n",
    "with open('data/raw/train.csv', encoding='utf-8-sig') as file:\n",
    "\n",
    "    # Skip the fiest 10,000,000 rows\n",
    "    for j in range(10000000):\n",
    "        next(file, None)\n",
    "    # Collect all attributed clicks until the end of the file\n",
    "#    for line in file:\n",
    "#       line = file.readline().split(',')\n",
    "#       if line.count('1\\n')==1:\n",
    "#            added_clicks2.append(line)\n",
    "\n",
    "len(added_clicks2)"
   ]
  },
  {
   "cell_type": "code",
   "execution_count": 128,
   "metadata": {},
   "outputs": [
    {
     "data": {
      "text/html": [
       "<div>\n",
       "<style scoped>\n",
       "    .dataframe tbody tr th:only-of-type {\n",
       "        vertical-align: middle;\n",
       "    }\n",
       "\n",
       "    .dataframe tbody tr th {\n",
       "        vertical-align: top;\n",
       "    }\n",
       "\n",
       "    .dataframe thead th {\n",
       "        text-align: right;\n",
       "    }\n",
       "</style>\n",
       "<table border=\"1\" class=\"dataframe\">\n",
       "  <thead>\n",
       "    <tr style=\"text-align: right;\">\n",
       "      <th></th>\n",
       "      <th>ip</th>\n",
       "      <th>app</th>\n",
       "      <th>device</th>\n",
       "      <th>os</th>\n",
       "      <th>channel</th>\n",
       "      <th>click_time</th>\n",
       "      <th>is_attributed</th>\n",
       "    </tr>\n",
       "  </thead>\n",
       "  <tbody>\n",
       "    <tr>\n",
       "      <th>0</th>\n",
       "      <td>141607</td>\n",
       "      <td>66</td>\n",
       "      <td>1</td>\n",
       "      <td>10</td>\n",
       "      <td>101</td>\n",
       "      <td>2017-11-07 00:12:04</td>\n",
       "      <td>1</td>\n",
       "    </tr>\n",
       "    <tr>\n",
       "      <th>1</th>\n",
       "      <td>58994</td>\n",
       "      <td>15</td>\n",
       "      <td>1</td>\n",
       "      <td>13</td>\n",
       "      <td>315</td>\n",
       "      <td>2017-11-07 00:12:04</td>\n",
       "      <td>1</td>\n",
       "    </tr>\n",
       "    <tr>\n",
       "      <th>2</th>\n",
       "      <td>77498</td>\n",
       "      <td>19</td>\n",
       "      <td>0</td>\n",
       "      <td>24</td>\n",
       "      <td>213</td>\n",
       "      <td>2017-11-07 00:12:06</td>\n",
       "      <td>1</td>\n",
       "    </tr>\n",
       "    <tr>\n",
       "      <th>3</th>\n",
       "      <td>38720</td>\n",
       "      <td>35</td>\n",
       "      <td>1</td>\n",
       "      <td>19</td>\n",
       "      <td>21</td>\n",
       "      <td>2017-11-07 00:12:06</td>\n",
       "      <td>1</td>\n",
       "    </tr>\n",
       "    <tr>\n",
       "      <th>4</th>\n",
       "      <td>71488</td>\n",
       "      <td>35</td>\n",
       "      <td>1</td>\n",
       "      <td>13</td>\n",
       "      <td>21</td>\n",
       "      <td>2017-11-07 00:12:08</td>\n",
       "      <td>1</td>\n",
       "    </tr>\n",
       "  </tbody>\n",
       "</table>\n",
       "</div>"
      ],
      "text/plain": [
       "       ip app device  os channel           click_time  is_attributed\n",
       "0  141607  66      1  10     101  2017-11-07 00:12:04              1\n",
       "1   58994  15      1  13     315  2017-11-07 00:12:04              1\n",
       "2   77498  19      0  24     213  2017-11-07 00:12:06              1\n",
       "3   38720  35      1  19      21  2017-11-07 00:12:06              1\n",
       "4   71488  35      1  13      21  2017-11-07 00:12:08              1"
      ]
     },
     "execution_count": 128,
     "metadata": {},
     "output_type": "execute_result"
    }
   ],
   "source": [
    "# Turn the new data into a dataframe and check it\n",
    "added_clicks2_df = pd.DataFrame(added_clicks2)\n",
    "# Fix the columns names, drop attributed_time and fix the value in is_attributed\n",
    "added_clicks2_df.columns=column_name\n",
    "added_clicks2_df.drop(columns=['attributed_time','is_attributed'], inplace=True)\n",
    "added_clicks2_df['is_attributed']=1\n",
    "added_clicks2_df.head()"
   ]
  },
  {
   "cell_type": "code",
   "execution_count": 129,
   "metadata": {},
   "outputs": [
    {
     "data": {
      "text/html": [
       "<div>\n",
       "<style scoped>\n",
       "    .dataframe tbody tr th:only-of-type {\n",
       "        vertical-align: middle;\n",
       "    }\n",
       "\n",
       "    .dataframe tbody tr th {\n",
       "        vertical-align: top;\n",
       "    }\n",
       "\n",
       "    .dataframe thead th {\n",
       "        text-align: right;\n",
       "    }\n",
       "</style>\n",
       "<table border=\"1\" class=\"dataframe\">\n",
       "  <thead>\n",
       "    <tr style=\"text-align: right;\">\n",
       "      <th></th>\n",
       "      <th>min</th>\n",
       "      <th>max</th>\n",
       "    </tr>\n",
       "  </thead>\n",
       "  <tbody>\n",
       "    <tr>\n",
       "      <th>ip</th>\n",
       "      <td>1</td>\n",
       "      <td>99998</td>\n",
       "    </tr>\n",
       "    <tr>\n",
       "      <th>app</th>\n",
       "      <td>0</td>\n",
       "      <td>98</td>\n",
       "    </tr>\n",
       "    <tr>\n",
       "      <th>device</th>\n",
       "      <td>0</td>\n",
       "      <td>990</td>\n",
       "    </tr>\n",
       "    <tr>\n",
       "      <th>os</th>\n",
       "      <td>0</td>\n",
       "      <td>99</td>\n",
       "    </tr>\n",
       "    <tr>\n",
       "      <th>channel</th>\n",
       "      <td>0</td>\n",
       "      <td>5</td>\n",
       "    </tr>\n",
       "    <tr>\n",
       "      <th>click_time</th>\n",
       "      <td>2017-11-07 00:12:04</td>\n",
       "      <td>2017-11-09 15:59:26</td>\n",
       "    </tr>\n",
       "    <tr>\n",
       "      <th>is_attributed</th>\n",
       "      <td>1</td>\n",
       "      <td>1</td>\n",
       "    </tr>\n",
       "  </tbody>\n",
       "</table>\n",
       "</div>"
      ],
      "text/plain": [
       "                               min                  max\n",
       "ip                               1                99998\n",
       "app                              0                   98\n",
       "device                           0                  990\n",
       "os                               0                   99\n",
       "channel                          0                    5\n",
       "click_time     2017-11-07 00:12:04  2017-11-09 15:59:26\n",
       "is_attributed                    1                    1"
      ]
     },
     "execution_count": 129,
     "metadata": {},
     "output_type": "execute_result"
    }
   ],
   "source": [
    "# Check at a high level the value in this additional dataset\n",
    "added_clicks2_df.agg([min,max]).T"
   ]
  },
  {
   "cell_type": "markdown",
   "metadata": {},
   "source": [
    "**Observation**\n",
    "* Now we have attributed clicks distributed from 2017-11-06 to 2017-11-09.\n",
    "* If we add the 3 datasets together, we will have more than 2x more attributed clicks than non-attributed. We can sample 1 out of 3 attributed clicks before adding them to the main dataset."
   ]
  },
  {
   "cell_type": "markdown",
   "metadata": {},
   "source": [
    "### Sampling and appending datasets "
   ]
  },
  {
   "cell_type": "code",
   "execution_count": 132,
   "metadata": {},
   "outputs": [
    {
     "name": "stdout",
     "output_type": "stream",
     "text": [
      "       ip app device  os channel           click_time  is_attributed\n",
      "0  204158  35      1  13      21  2017-11-06 15:41:07              1\n",
      "1   29692   9      1  22     215  2017-11-06 16:00:02              1\n",
      "2   64516  35      1  13      21  2017-11-06 16:00:02              1\n",
      "3  172429  35      1  46     274  2017-11-06 16:00:03              1\n",
      "4  199085  35      1  13     274  2017-11-06 16:00:04              1             ip app device  os channel           click_time  is_attributed\n",
      "237667    1883  10      1   7     113  2017-11-09 15:59:08              1\n",
      "237668  346662  45      1  11     419  2017-11-09 15:59:13              1\n",
      "237669  313982  10      1  27     113  2017-11-09 15:59:21              1\n",
      "237670   29789  45      1  32     419  2017-11-09 15:59:26              1\n",
      "237671  308776  10      1  11     113  2017-11-09 15:59:26              1\n"
     ]
    }
   ],
   "source": [
    "# Concatenate both added_clicks datasets\n",
    "added_clicks_main = pd.concat([added_clicks_df, added_clicks2_df], axis=0, ignore_index=True)\n",
    "print(added_clicks_main.head(),added_clicks_main.tail())"
   ]
  },
  {
   "cell_type": "code",
   "execution_count": 134,
   "metadata": {},
   "outputs": [
    {
     "name": "stdout",
     "output_type": "stream",
     "text": [
      "            ip  app device  os channel           click_time  is_attributed\n",
      "2771     90509   51      0  21     203  2017-11-06 16:39:07              1\n",
      "2775     46549   35      1  13      21  2017-11-06 16:39:11              1\n",
      "2912      7813   35      1  18      21  2017-11-06 16:41:27              1\n",
      "3845    108997   35      1  13      21  2017-11-06 16:58:39              1\n",
      "4345     76932   35      1  18      21  2017-11-06 17:09:13              1\n",
      "...        ...  ...    ...  ..     ...                  ...            ...\n",
      "176594  291256    7      1  13     101  2017-11-09 01:33:51              1\n",
      "201039   29958    3      1  13     280  2017-11-09 06:53:12              1\n",
      "202058  329169  163      0   0       4  2017-11-09 07:05:25              1\n",
      "223823    3289   35      1  22     274  2017-11-09 12:17:49              1\n",
      "236319   43827   19     29  24     213  2017-11-09 15:21:51              1\n",
      "\n",
      "[74 rows x 7 columns]\n"
     ]
    }
   ],
   "source": [
    "# Find and drop duplicates\n",
    "duplicateRowsDF = added_clicks_main[added_clicks_main.duplicated()]\n",
    "print(duplicateRowsDF)\n",
    "\n",
    "added_clicks_main = added_clicks_main.drop_duplicates()"
   ]
  },
  {
   "cell_type": "code",
   "execution_count": 136,
   "metadata": {},
   "outputs": [],
   "source": [
    "# Sample one out of three clicks\n",
    "added_clicks_main = added_clicks_main[::3]"
   ]
  },
  {
   "cell_type": "code",
   "execution_count": 137,
   "metadata": {},
   "outputs": [
    {
     "data": {
      "text/plain": [
       "79200"
      ]
     },
     "execution_count": 137,
     "metadata": {},
     "output_type": "execute_result"
    }
   ],
   "source": [
    "len(added_clicks_main)"
   ]
  },
  {
   "cell_type": "code",
   "execution_count": 214,
   "metadata": {},
   "outputs": [
    {
     "data": {
      "text/html": [
       "<div>\n",
       "<style scoped>\n",
       "    .dataframe tbody tr th:only-of-type {\n",
       "        vertical-align: middle;\n",
       "    }\n",
       "\n",
       "    .dataframe tbody tr th {\n",
       "        vertical-align: top;\n",
       "    }\n",
       "\n",
       "    .dataframe thead th {\n",
       "        text-align: right;\n",
       "    }\n",
       "</style>\n",
       "<table border=\"1\" class=\"dataframe\">\n",
       "  <thead>\n",
       "    <tr style=\"text-align: right;\">\n",
       "      <th></th>\n",
       "      <th>ip</th>\n",
       "      <th>app</th>\n",
       "      <th>device</th>\n",
       "      <th>os</th>\n",
       "      <th>channel</th>\n",
       "      <th>click_time</th>\n",
       "      <th>is_attributed</th>\n",
       "    </tr>\n",
       "  </thead>\n",
       "  <tbody>\n",
       "    <tr>\n",
       "      <th>0</th>\n",
       "      <td>87540</td>\n",
       "      <td>12</td>\n",
       "      <td>1</td>\n",
       "      <td>13</td>\n",
       "      <td>497</td>\n",
       "      <td>2017-11-07 09:30:38</td>\n",
       "      <td>0</td>\n",
       "    </tr>\n",
       "    <tr>\n",
       "      <th>1</th>\n",
       "      <td>105560</td>\n",
       "      <td>25</td>\n",
       "      <td>1</td>\n",
       "      <td>17</td>\n",
       "      <td>259</td>\n",
       "      <td>2017-11-07 13:40:27</td>\n",
       "      <td>0</td>\n",
       "    </tr>\n",
       "    <tr>\n",
       "      <th>2</th>\n",
       "      <td>101424</td>\n",
       "      <td>12</td>\n",
       "      <td>1</td>\n",
       "      <td>19</td>\n",
       "      <td>212</td>\n",
       "      <td>2017-11-07 18:05:24</td>\n",
       "      <td>0</td>\n",
       "    </tr>\n",
       "    <tr>\n",
       "      <th>3</th>\n",
       "      <td>94584</td>\n",
       "      <td>13</td>\n",
       "      <td>1</td>\n",
       "      <td>13</td>\n",
       "      <td>477</td>\n",
       "      <td>2017-11-07 04:58:08</td>\n",
       "      <td>0</td>\n",
       "    </tr>\n",
       "    <tr>\n",
       "      <th>4</th>\n",
       "      <td>68413</td>\n",
       "      <td>12</td>\n",
       "      <td>1</td>\n",
       "      <td>1</td>\n",
       "      <td>178</td>\n",
       "      <td>2017-11-09 09:00:09</td>\n",
       "      <td>0</td>\n",
       "    </tr>\n",
       "  </tbody>\n",
       "</table>\n",
       "</div>"
      ],
      "text/plain": [
       "       ip  app  device  os  channel          click_time  is_attributed\n",
       "0   87540   12       1  13      497 2017-11-07 09:30:38              0\n",
       "1  105560   25       1  17      259 2017-11-07 13:40:27              0\n",
       "2  101424   12       1  19      212 2017-11-07 18:05:24              0\n",
       "3   94584   13       1  13      477 2017-11-07 04:58:08              0\n",
       "4   68413   12       1   1      178 2017-11-09 09:00:09              0"
      ]
     },
     "execution_count": 214,
     "metadata": {},
     "output_type": "execute_result"
    }
   ],
   "source": [
    "# Check df columns before concatenating\n",
    "df.head()"
   ]
  },
  {
   "cell_type": "code",
   "execution_count": 218,
   "metadata": {},
   "outputs": [],
   "source": [
    "# Concatenate\n",
    "df2 = pd.concat([df, added_clicks_main], axis=0, ignore_index=True)"
   ]
  },
  {
   "cell_type": "code",
   "execution_count": 220,
   "metadata": {},
   "outputs": [
    {
     "name": "stdout",
     "output_type": "stream",
     "text": [
      "<class 'pandas.core.frame.DataFrame'>\n",
      "RangeIndex: 179199 entries, 0 to 179198\n",
      "Data columns (total 7 columns):\n",
      " #   Column         Non-Null Count   Dtype \n",
      "---  ------         --------------   ----- \n",
      " 0   ip             179199 non-null  object\n",
      " 1   app            179199 non-null  object\n",
      " 2   device         179199 non-null  object\n",
      " 3   os             179199 non-null  object\n",
      " 4   channel        179199 non-null  object\n",
      " 5   click_time     179199 non-null  object\n",
      " 6   is_attributed  179199 non-null  int64 \n",
      "dtypes: int64(1), object(6)\n",
      "memory usage: 9.6+ MB\n"
     ]
    }
   ],
   "source": [
    "# Check data types\n",
    "df2.info()"
   ]
  },
  {
   "cell_type": "markdown",
   "metadata": {},
   "source": [
    "## Investigating relationship "
   ]
  },
  {
   "cell_type": "code",
   "execution_count": null,
   "metadata": {},
   "outputs": [],
   "source": [
    "# Does any app run on only 1 channel?\n",
    "# Does any channel run on only 1 app?\n",
    "sns.catplot(x=\"channel\", y=\"app\", data=df);"
   ]
  },
  {
   "cell_type": "markdown",
   "metadata": {},
   "source": [
    "## Feature engineering"
   ]
  },
  {
   "cell_type": "markdown",
   "metadata": {},
   "source": [
    "### Create feature: user"
   ]
  },
  {
   "cell_type": "markdown",
   "metadata": {},
   "source": [
    "### Create feature: campaign "
   ]
  },
  {
   "cell_type": "markdown",
   "metadata": {},
   "source": [
    "### Create count_of_click"
   ]
  },
  {
   "cell_type": "markdown",
   "metadata": {},
   "source": [
    "### Create click_hour "
   ]
  },
  {
   "cell_type": "code",
   "execution_count": null,
   "metadata": {},
   "outputs": [],
   "source": [
    "#extract hour as a feature\n",
    "df['click_hour']=df['click_time'].dt.hour"
   ]
  },
  {
   "cell_type": "markdown",
   "metadata": {},
   "source": [
    "### Reducing the number of value for ip, device, os "
   ]
  },
  {
   "cell_type": "code",
   "execution_count": null,
   "metadata": {},
   "outputs": [],
   "source": []
  }
 ],
 "metadata": {
  "kernelspec": {
   "display_name": "Python 3",
   "language": "python",
   "name": "python3"
  },
  "language_info": {
   "codemirror_mode": {
    "name": "ipython",
    "version": 3
   },
   "file_extension": ".py",
   "mimetype": "text/x-python",
   "name": "python",
   "nbconvert_exporter": "python",
   "pygments_lexer": "ipython3",
   "version": "3.7.6"
  },
  "toc": {
   "base_numbering": 1,
   "nav_menu": {},
   "number_sections": true,
   "sideBar": true,
   "skip_h1_title": false,
   "title_cell": "Table of Contents",
   "title_sidebar": "Contents",
   "toc_cell": false,
   "toc_position": {
    "height": "calc(100% - 180px)",
    "left": "10px",
    "top": "150px",
    "width": "305.488px"
   },
   "toc_section_display": true,
   "toc_window_display": true
  }
 },
 "nbformat": 4,
 "nbformat_minor": 4
}
